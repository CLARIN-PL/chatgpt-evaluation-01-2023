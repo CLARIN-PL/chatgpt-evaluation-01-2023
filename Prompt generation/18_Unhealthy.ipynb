{
 "cells": [
  {
   "cell_type": "code",
   "execution_count": 3,
   "metadata": {},
   "outputs": [],
   "source": [
    "import pandas as pd\n",
    "import numpy as np"
   ]
  },
  {
   "cell_type": "code",
   "execution_count": 5,
   "metadata": {},
   "outputs": [
    {
     "name": "stdout",
     "output_type": "stream",
     "text": [
      "--2023-01-21 16:46:48--  https://raw.githubusercontent.com/conversationai/unhealthy-conversations/main/unhealthy_full.csv\n",
      "Resolving raw.githubusercontent.com (raw.githubusercontent.com)... 185.199.111.133, 185.199.109.133, 185.199.110.133, ...\n",
      "Connecting to raw.githubusercontent.com (raw.githubusercontent.com)|185.199.111.133|:443... connected.\n",
      "HTTP request sent, awaiting response... 200 OK\n",
      "Length: 35005739 (33M) [text/plain]\n",
      "Saving to: ‘unhealthy_full.csv.1’\n",
      "\n",
      "unhealthy_full.csv. 100%[===================>]  33.38M  23.7MB/s    in 1.4s    \n",
      "\n",
      "2023-01-21 16:46:51 (23.7 MB/s) - ‘unhealthy_full.csv.1’ saved [35005739/35005739]\n",
      "\n"
     ]
    }
   ],
   "source": [
    "!wget https://raw.githubusercontent.com/conversationai/unhealthy-conversations/main/unhealthy_full.csv"
   ]
  },
  {
   "cell_type": "code",
   "execution_count": 7,
   "metadata": {},
   "outputs": [],
   "source": [
    "data = pd.read_csv(\"unhealthy_full.csv\")"
   ]
  },
  {
   "cell_type": "code",
   "execution_count": 10,
   "metadata": {},
   "outputs": [],
   "source": [
    "ann_columns = data.columns.tolist()[4:]"
   ]
  },
  {
   "cell_type": "code",
   "execution_count": 11,
   "metadata": {},
   "outputs": [
    {
     "data": {
      "text/plain": [
       "'antagonize, condescending, dismissive, generalisation, generalisation_unfair, healthy, hostile, sarcastic'"
      ]
     },
     "execution_count": 11,
     "metadata": {},
     "output_type": "execute_result"
    }
   ],
   "source": [
    "', '.join(ann_columns)"
   ]
  },
  {
   "cell_type": "code",
   "execution_count": 12,
   "metadata": {},
   "outputs": [],
   "source": [
    "for col in ann_columns:\n",
    "    data[col] = data[col].astype(int)"
   ]
  },
  {
   "cell_type": "code",
   "execution_count": 25,
   "metadata": {},
   "outputs": [],
   "source": [
    "np.random.seed(22)\n",
    "\n",
    "selected_texts = data['comment'].drop_duplicates().sample(n=1000).tolist()\n",
    "selected_data = data.loc[data['comment'].isin(selected_texts)]\n",
    "not_selected_data = data.loc[~data['comment'].isin(selected_texts)]"
   ]
  },
  {
   "cell_type": "code",
   "execution_count": 58,
   "metadata": {},
   "outputs": [],
   "source": [
    "major_votes_data = selected_data.groupby('comment')[ann_columns].mean()\n",
    "\n",
    "major_votes_data[major_votes_data < 0.5] = 0\n",
    "major_votes_data[major_votes_data >= 0.5] = 1\n",
    "major_votes_data = major_votes_data.astype(int).reset_index()\n",
    "\n",
    "def get_prompt(text):\n",
    "    pattern = f'Which of the attributes: \"antagonize\", \"condescending\", \"dismissive\", \"generalisation\", \"unfair generalisation\", \"healthy\", \"hostile\", \"sarcastic\" describe a given text? Write your answer in the form of a Python list containing the appropriate attributes \\n\\n Text: {text}\\n\\n'\n",
    "\n",
    "    return pattern\n",
    "\n",
    "major_votes_data['comment'] = major_votes_data['comment'].apply(get_prompt)"
   ]
  },
  {
   "cell_type": "code",
   "execution_count": 59,
   "metadata": {},
   "outputs": [],
   "source": [
    "\n",
    "def get_labels(row):\n",
    "    return np.array(ann_columns)[row[ann_columns].values == 1]\n",
    "\n",
    "major_votes_data['annotation'] = major_votes_data.apply(get_labels , axis=1)"
   ]
  },
  {
   "cell_type": "code",
   "execution_count": 61,
   "metadata": {},
   "outputs": [],
   "source": [
    "major_votes_data.loc[:, ['comment', 'annotation']].to_csv(\"uc_prompts.csv\")"
   ]
  },
  {
   "cell_type": "code",
   "execution_count": null,
   "metadata": {},
   "outputs": [],
   "source": []
  }
 ],
 "metadata": {
  "kernelspec": {
   "display_name": "venv",
   "language": "python",
   "name": "python3"
  },
  "language_info": {
   "codemirror_mode": {
    "name": "ipython",
    "version": 3
   },
   "file_extension": ".py",
   "mimetype": "text/x-python",
   "name": "python",
   "nbconvert_exporter": "python",
   "pygments_lexer": "ipython3",
   "version": "3.8.10 (default, Mar 15 2022, 12:22:08) \n[GCC 9.4.0]"
  },
  "orig_nbformat": 4,
  "vscode": {
   "interpreter": {
    "hash": "cc7d13e869b8afa3873d5acbaf65aae43ae0fbfc4649022ee0b69499513f41d9"
   }
  }
 },
 "nbformat": 4,
 "nbformat_minor": 2
}
