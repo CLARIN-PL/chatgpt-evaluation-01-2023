{
 "cells": [
  {
   "cell_type": "markdown",
   "id": "cc5ccc05",
   "metadata": {},
   "source": [
    "## CoLA"
   ]
  },
  {
   "cell_type": "markdown",
   "id": "fae01eb8",
   "metadata": {},
   "source": [
    "0=unacceptable, 1=acceptable"
   ]
  },
  {
   "cell_type": "code",
   "execution_count": null,
   "id": "01209873",
   "metadata": {},
   "outputs": [],
   "source": [
    "propmptfiles_folder = 'promptfiles/'"
   ]
  },
  {
   "cell_type": "code",
   "execution_count": null,
   "id": "0545d3ec",
   "metadata": {},
   "outputs": [],
   "source": [
    "def generate_dataframe(df: pd.DataFrame, story):\n",
    "    df[\"prompt\"] = df[\"text\"].apply(lambda row: story.format(row))\n",
    "    df = df.reset_index(names=\"id\")\n",
    "    return df"
   ]
  },
  {
   "cell_type": "code",
   "execution_count": null,
   "id": "887dc0ac",
   "metadata": {},
   "outputs": [],
   "source": [
    "MAIN_CoLA_STORY = \"\"\"\n",
    "Describe the grammatic acceptability of the given text. Choose your answer from provided list and\n",
    "map your answer with following unacceptable: 0, acceptable: 1 and return an integer as a result. Do not explain yourself.\n",
    "Input data:\n",
    "\n",
    "Text: {}\n",
    "\n",
    "Possible acceptability: unacceptable, acceptable\n",
    "\"\"\""
   ]
  },
  {
   "cell_type": "code",
   "execution_count": null,
   "id": "4096f243",
   "metadata": {},
   "outputs": [],
   "source": [
    "df = pd.read_csv('CoLA/dev.tsv', sep='\\t', names = ['source', 'label', 'star', 'text'])\n",
    "df\n",
    "new_df = generate_dataframe(df, MAIN_CoLA_STORY)\n",
    "new_df.to_csv(\"CoLA-dev.csv\", index=False, columns=['id', \"prompt\", \"text\", \"label\"])"
   ]
  }
 ],
 "metadata": {
  "kernelspec": {
   "display_name": "Python 3 (ipykernel)",
   "language": "python",
   "name": "python3"
  },
  "language_info": {
   "codemirror_mode": {
    "name": "ipython",
    "version": 3
   },
   "file_extension": ".py",
   "mimetype": "text/x-python",
   "name": "python",
   "nbconvert_exporter": "python",
   "pygments_lexer": "ipython3",
   "version": "3.10.7"
  }
 },
 "nbformat": 4,
 "nbformat_minor": 5
}
