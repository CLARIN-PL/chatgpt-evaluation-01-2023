{
 "cells": [
  {
   "cell_type": "code",
   "execution_count": 3,
   "id": "42d60ce4",
   "metadata": {},
   "outputs": [],
   "source": [
    "import pandas as pd\n",
    "import pathlib\n",
    "import swifter\n",
    "\n",
    "DATA_DIR = pathlib.Path(\"data\")\n",
    "EMOJI_MAPPING = {\n",
    "    \"❤\": 0,\n",
    "    \"😍\": 1,\n",
    "    \"😂\": 2,\n",
    "    \"💕\": 3,\n",
    "    \"🔥\": 4,\n",
    "    \"😊\": 5,\n",
    "    \"😎\": 6,\n",
    "    \"✨\": 7,\n",
    "    \"💙\": 8,\n",
    "    \"😘\": 9,\n",
    "    \"📷\": 10,\n",
    "    \"🇺🇸\": 11,\n",
    "    \"☀\": 12,\n",
    "    \"💜\": 13,\n",
    "    \"😉\": 14,\n",
    "    \"💯\": 15,\n",
    "    \"😁\": 16,\n",
    "    \"🎄\": 17,\n",
    "    \"📸\": 18,\n",
    "    \"😜\": 19\n",
    "}"
   ]
  },
  {
   "cell_type": "code",
   "execution_count": 4,
   "id": "df5356c9",
   "metadata": {},
   "outputs": [],
   "source": [
    "def get_query(tweet: str) -> str:\n",
    "    return (\n",
    "        f\"Assuming that you have to select an emoji from the given list, which suits a tweet\" + \n",
    "        f\" the best, which three would you choose? Possible emojis list: {', '.join(EMOJI_MAPPING.keys())}.\" +\n",
    "        f\"Tweet: {tweet}. Form the answer as a python list of int according to mapping {EMOJI_MAPPING} \" +\n",
    "        \"and order chosen emojis from best suited to worst. Do not provide additional explanation,\" +\n",
    "        \" only the list.\"\n",
    "    ) \n",
    "\n",
    "\n",
    "def prepare_df(split: str = \"test\") -> pd.DataFrame:\n",
    "    labels = pd.read_csv(DATA_DIR.joinpath(f\"{split}_labels.txt\"), header=None)\n",
    "    labels.columns = [\"label\"]\n",
    "    \n",
    "    text = pd.read_csv(DATA_DIR.joinpath(f\"{split}_text.txt\"), header=None, sep=\"delimiter\", engine=\"python\")\n",
    "    text.columns = [\"text\"]\n",
    "    \n",
    "    text[\"label\"] = labels[\"label\"]\n",
    "    \n",
    "    text[\"prompt\"] = text[\"text\"].swifter.apply(lambda x: get_query(x))\n",
    "    \n",
    "    return text"
   ]
  },
  {
   "cell_type": "code",
   "execution_count": 10,
   "id": "b5793497",
   "metadata": {},
   "outputs": [
    {
     "data": {
      "application/vnd.jupyter.widget-view+json": {
       "model_id": "99f1bd169c304cc38edba9f004451d14",
       "version_major": 2,
       "version_minor": 0
      },
      "text/plain": [
       "Pandas Apply:   0%|          | 0/50000 [00:00<?, ?it/s]"
      ]
     },
     "metadata": {},
     "output_type": "display_data"
    }
   ],
   "source": [
    "df = prepare_df().reset_index().rename(columns={\"index\": \"id\"})\n",
    "df.to_csv(DATA_DIR.joinpath(\"emoji_prompts.csv\"), index=False)"
   ]
  }
 ],
 "metadata": {
  "kernelspec": {
   "display_name": "Python 3 (ipykernel)",
   "language": "python",
   "name": "python3"
  },
  "language_info": {
   "codemirror_mode": {
    "name": "ipython",
    "version": 3
   },
   "file_extension": ".py",
   "mimetype": "text/x-python",
   "name": "python",
   "nbconvert_exporter": "python",
   "pygments_lexer": "ipython3",
   "version": "3.9.16"
  }
 },
 "nbformat": 4,
 "nbformat_minor": 5
}
