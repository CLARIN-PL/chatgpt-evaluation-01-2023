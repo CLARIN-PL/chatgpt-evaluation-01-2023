{
 "cells": [
  {
   "cell_type": "code",
   "execution_count": 1,
   "metadata": {},
   "outputs": [],
   "source": [
    "import pandas as pd\n",
    "import numpy as np"
   ]
  },
  {
   "cell_type": "code",
   "execution_count": 2,
   "metadata": {},
   "outputs": [
    {
     "name": "stdout",
     "output_type": "stream",
     "text": [
      "--2023-01-21 17:42:18--  https://raw.githubusercontent.com/conversationai/unhealthy-conversations/main/unhealthy_full.csv\n",
      "Resolving raw.githubusercontent.com (raw.githubusercontent.com)... 185.199.108.133, 185.199.109.133, 185.199.110.133, ...\n",
      "Connecting to raw.githubusercontent.com (raw.githubusercontent.com)|185.199.108.133|:443... connected.\n",
      "HTTP request sent, awaiting response... 200 OK\n",
      "Length: 35005739 (33M) [text/plain]\n",
      "Saving to: ‘unhealthy_full.csv.1’\n",
      "\n",
      "unhealthy_full.csv. 100%[===================>]  33.38M  10.1MB/s    in 3.5s    \n",
      "\n",
      "2023-01-21 17:42:22 (9.67 MB/s) - ‘unhealthy_full.csv.1’ saved [35005739/35005739]\n",
      "\n"
     ]
    }
   ],
   "source": [
    "!wget https://raw.githubusercontent.com/conversationai/unhealthy-conversations/main/unhealthy_full.csv"
   ]
  },
  {
   "cell_type": "code",
   "execution_count": 2,
   "metadata": {},
   "outputs": [],
   "source": [
    "data = pd.read_csv(\"unhealthy_full.csv\")"
   ]
  },
  {
   "cell_type": "code",
   "execution_count": 3,
   "metadata": {},
   "outputs": [],
   "source": [
    "ann_columns = data.columns.tolist()[4:]"
   ]
  },
  {
   "cell_type": "code",
   "execution_count": 4,
   "metadata": {},
   "outputs": [
    {
     "data": {
      "text/plain": [
       "'antagonize, condescending, dismissive, generalisation, generalisation_unfair, healthy, hostile, sarcastic'"
      ]
     },
     "execution_count": 4,
     "metadata": {},
     "output_type": "execute_result"
    }
   ],
   "source": [
    "', '.join(ann_columns)"
   ]
  },
  {
   "cell_type": "code",
   "execution_count": 5,
   "metadata": {},
   "outputs": [],
   "source": [
    "for col in ann_columns:\n",
    "    data[col] = data[col].astype(int)"
   ]
  },
  {
   "cell_type": "code",
   "execution_count": 9,
   "metadata": {},
   "outputs": [],
   "source": [
    "np.random.seed(22)\n",
    "\n",
    "selected_texts = data['comment'].drop_duplicates().sample(n=1000).tolist()\n",
    "selected_data = data.loc[data['comment'].isin(selected_texts)].sample(n=1000)\n",
    "not_selected_data = data.loc[~data['comment'].isin(selected_texts)]"
   ]
  },
  {
   "cell_type": "code",
   "execution_count": 10,
   "metadata": {},
   "outputs": [],
   "source": [
    "mean_stds = not_selected_data.groupby('comment')[ann_columns].std().mean(axis=1).reset_index().rename(columns={0: 'mean_std'})\n",
    "not_selected_data = not_selected_data.merge(mean_stds)"
   ]
  },
  {
   "cell_type": "code",
   "execution_count": 11,
   "metadata": {},
   "outputs": [],
   "source": [
    "\n",
    "def get_personalized_prompt(rows):\n",
    "    pattern = \"Knowing that a certain person described the texts with given attributes:\\n\\n\"\n",
    "    labels = rows['labels'].apply(lambda x: ', '.join(x))\n",
    "    comments = rows['comment']\n",
    "\n",
    "    return pattern + '\\n'.join((\"Text: \" + comments + '; Attributes: ' + labels).to_list())\n",
    "\n",
    "def get_prompt(text, _worker_id):\n",
    "    not_selected_worker_annotations = not_selected_data.loc[not_selected_data._worker_id == _worker_id]\n",
    "    not_selected_worker_annotations = not_selected_worker_annotations.sort_values(by='mean_std', ascending=False)[:3]\n",
    "\n",
    "    not_selected_worker_annotations['labels'] = not_selected_worker_annotations.apply(get_labels, axis=1)\n",
    "\n",
    "    personalized_part = get_personalized_prompt(not_selected_worker_annotations)\n",
    "    prompt = f'\\n\\nwrite which of the attributes: \"antagonize\", \"condescending\", \"dismissive\", \"generalisation\", \"unfair generalisation\", \"healthy\", \"hostile\", \"sarcastic\" this person described a given text? Write your answer in the form of a Python list containing the appropriate attributes \\n\\n Text: {text}\\n\\n'\n",
    "\n",
    "    return personalized_part + prompt\n",
    "\n",
    "def get_labels(row):\n",
    "    return np.array(ann_columns)[row[ann_columns].values == 1]\n",
    "\n",
    "selected_data['text_raw'] = selected_data['comment']\n",
    "selected_data['comment'] = selected_data.apply(lambda row: get_prompt(row['comment'], row['_worker_id']), axis=1)"
   ]
  },
  {
   "cell_type": "code",
   "execution_count": 17,
   "metadata": {},
   "outputs": [],
   "source": [
    "selected_data['labels'] = selected_data.apply(get_labels, axis=1)\n",
    "selected_data.loc[:, ['comment', 'labels', 'text_raw']].to_csv('uc_personalized_prompts.csv', index=False)"
   ]
  },
  {
   "cell_type": "code",
   "execution_count": 18,
   "metadata": {},
   "outputs": [
    {
     "name": "stdout",
     "output_type": "stream",
     "text": [
      "/mnt/data/mgruza/personalized-nlp\n"
     ]
    }
   ],
   "source": [
    "!pwd"
   ]
  },
  {
   "cell_type": "code",
   "execution_count": null,
   "metadata": {},
   "outputs": [],
   "source": []
  }
 ],
 "metadata": {
  "kernelspec": {
   "display_name": "venv",
   "language": "python",
   "name": "python3"
  },
  "language_info": {
   "codemirror_mode": {
    "name": "ipython",
    "version": 3
   },
   "file_extension": ".py",
   "mimetype": "text/x-python",
   "name": "python",
   "nbconvert_exporter": "python",
   "pygments_lexer": "ipython3",
   "version": "3.8.10 (default, Mar 15 2022, 12:22:08) \n[GCC 9.4.0]"
  },
  "orig_nbformat": 4,
  "vscode": {
   "interpreter": {
    "hash": "cc7d13e869b8afa3873d5acbaf65aae43ae0fbfc4649022ee0b69499513f41d9"
   }
  }
 },
 "nbformat": 4,
 "nbformat_minor": 2
}
