{
 "cells": [
  {
   "cell_type": "code",
   "execution_count": 1,
   "metadata": {},
   "outputs": [],
   "source": [
    "import pandas as pd\n",
    "import textwrap\n",
    "import numpy as np"
   ]
  },
  {
   "cell_type": "markdown",
   "metadata": {},
   "source": [
    "## CONFIG"
   ]
  },
  {
   "cell_type": "code",
   "execution_count": 2,
   "metadata": {},
   "outputs": [],
   "source": [
    "# Dataset is too large to process it fully\n",
    "MAX_N_SAMPLES_PER_ANNOTATOR = 15\n",
    "NUMBER_OF_MAX_CONTEXTS = 3"
   ]
  },
  {
   "cell_type": "markdown",
   "metadata": {},
   "source": [
    "## Pobranie danych"
   ]
  },
  {
   "cell_type": "code",
   "execution_count": 3,
   "metadata": {
    "colab": {
     "base_uri": "https://localhost:8080/"
    },
    "executionInfo": {
     "elapsed": 366,
     "status": "ok",
     "timestamp": 1674166429653,
     "user": {
      "displayName": "Jan Kocoń",
      "userId": "12977978142372414049"
     },
     "user_tz": -60
    },
    "id": "DoWZLRlS8LZa",
    "outputId": "dd54fe2f-053d-4f78-e719-25d059e93fa2"
   },
   "outputs": [],
   "source": [
    "#test dataset\n",
    "#!wget https://github.com/google-research/google-research/raw/master/goemotions/data/test.tsv\n",
    "#!wget https://github.com/google-research/google-research/raw/master/goemotions/data/train.tsv"
   ]
  },
  {
   "cell_type": "code",
   "execution_count": 4,
   "metadata": {
    "colab": {
     "base_uri": "https://localhost:8080/"
    },
    "executionInfo": {
     "elapsed": 306,
     "status": "ok",
     "timestamp": 1674166815388,
     "user": {
      "displayName": "Jan Kocoń",
      "userId": "12977978142372414049"
     },
     "user_tz": -60
    },
    "id": "8M0V0zSjHcQv",
    "outputId": "c8784de3-fded-4620-e4f3-d283abf3fabd"
   },
   "outputs": [],
   "source": [
    "#labels\n",
    "#!wget https://raw.githubusercontent.com/google-research/google-research/master/goemotions/data/emotions.txt"
   ]
  },
  {
   "cell_type": "code",
   "execution_count": 5,
   "metadata": {
    "tags": []
   },
   "outputs": [],
   "source": [
    "# Full data\n",
    "#!wget -P data/full_dataset/ https://storage.googleapis.com/gresearch/goemotions/data/full_dataset/goemotions_1.csv\n",
    "#!wget -P data/full_dataset/ https://storage.googleapis.com/gresearch/goemotions/data/full_dataset/goemotions_2.csv\n",
    "#!wget -P data/full_dataset/ https://storage.googleapis.com/gresearch/goemotions/data/full_dataset/goemotions_3.csv"
   ]
  },
  {
   "cell_type": "code",
   "execution_count": 6,
   "metadata": {},
   "outputs": [],
   "source": [
    "full_data_df = pd.concat(\n",
    "    [\n",
    "        pd.read_csv(\"data/full_dataset/goemotions_1.csv\"),\n",
    "        pd.read_csv(\"data/full_dataset/goemotions_2.csv\"),\n",
    "        pd.read_csv(\"data/full_dataset/goemotions_3.csv\"),\n",
    "    ]\n",
    ")"
   ]
  },
  {
   "cell_type": "code",
   "execution_count": 7,
   "metadata": {
    "executionInfo": {
     "elapsed": 306,
     "status": "ok",
     "timestamp": 1674168311603,
     "user": {
      "displayName": "Jan Kocoń",
      "userId": "12977978142372414049"
     },
     "user_tz": -60
    },
    "id": "_fsfTfYOHl4S"
   },
   "outputs": [],
   "source": [
    "labels_df = pd.read_csv('emotions.txt', header=None)\n",
    "labels = labels_df.values[:,0].tolist()"
   ]
  },
  {
   "cell_type": "code",
   "execution_count": 8,
   "metadata": {},
   "outputs": [
    {
     "data": {
      "text/plain": [
       "['admiration',\n",
       " 'amusement',\n",
       " 'anger',\n",
       " 'annoyance',\n",
       " 'approval',\n",
       " 'caring',\n",
       " 'confusion',\n",
       " 'curiosity',\n",
       " 'desire',\n",
       " 'disappointment',\n",
       " 'disapproval',\n",
       " 'disgust',\n",
       " 'embarrassment',\n",
       " 'excitement',\n",
       " 'fear',\n",
       " 'gratitude',\n",
       " 'grief',\n",
       " 'joy',\n",
       " 'love',\n",
       " 'nervousness',\n",
       " 'optimism',\n",
       " 'pride',\n",
       " 'realization',\n",
       " 'relief',\n",
       " 'remorse',\n",
       " 'sadness',\n",
       " 'surprise',\n",
       " 'neutral']"
      ]
     },
     "execution_count": 8,
     "metadata": {},
     "output_type": "execute_result"
    }
   ],
   "source": [
    "labels"
   ]
  },
  {
   "cell_type": "code",
   "execution_count": 9,
   "metadata": {},
   "outputs": [],
   "source": [
    "train_df = pd.read_csv('train.tsv', sep='\\t', header=None)"
   ]
  },
  {
   "cell_type": "code",
   "execution_count": 10,
   "metadata": {},
   "outputs": [],
   "source": [
    "train_df = train_df.rename(\n",
    "    columns={\n",
    "        0: \"text\",\n",
    "        1: \"label\",\n",
    "        2: \"id\",\n",
    "    }\n",
    ")"
   ]
  },
  {
   "cell_type": "code",
   "execution_count": 11,
   "metadata": {
    "executionInfo": {
     "elapsed": 378,
     "status": "ok",
     "timestamp": 1674168313925,
     "user": {
      "displayName": "Jan Kocoń",
      "userId": "12977978142372414049"
     },
     "user_tz": -60
    },
    "id": "eoXYejQzIszF"
   },
   "outputs": [],
   "source": [
    "test_df = pd.read_csv('test.tsv', sep='\\t', header=None)"
   ]
  },
  {
   "cell_type": "code",
   "execution_count": 12,
   "metadata": {},
   "outputs": [],
   "source": [
    "test_df = test_df.rename(\n",
    "    columns={\n",
    "        0: \"text\",\n",
    "        1: \"label\",\n",
    "        2: \"id\",\n",
    "    }\n",
    ")"
   ]
  },
  {
   "cell_type": "code",
   "execution_count": 13,
   "metadata": {},
   "outputs": [
    {
     "data": {
      "text/html": [
       "<div>\n",
       "<style scoped>\n",
       "    .dataframe tbody tr th:only-of-type {\n",
       "        vertical-align: middle;\n",
       "    }\n",
       "\n",
       "    .dataframe tbody tr th {\n",
       "        vertical-align: top;\n",
       "    }\n",
       "\n",
       "    .dataframe thead th {\n",
       "        text-align: right;\n",
       "    }\n",
       "</style>\n",
       "<table border=\"1\" class=\"dataframe\">\n",
       "  <thead>\n",
       "    <tr style=\"text-align: right;\">\n",
       "      <th></th>\n",
       "      <th>text</th>\n",
       "      <th>label</th>\n",
       "      <th>id</th>\n",
       "    </tr>\n",
       "  </thead>\n",
       "  <tbody>\n",
       "    <tr>\n",
       "      <th>0</th>\n",
       "      <td>I’m really sorry about your situation :( Altho...</td>\n",
       "      <td>25</td>\n",
       "      <td>eecwqtt</td>\n",
       "    </tr>\n",
       "    <tr>\n",
       "      <th>1</th>\n",
       "      <td>It's wonderful because it's awful. At not with.</td>\n",
       "      <td>0</td>\n",
       "      <td>ed5f85d</td>\n",
       "    </tr>\n",
       "  </tbody>\n",
       "</table>\n",
       "</div>"
      ],
      "text/plain": [
       "                                                text label       id\n",
       "0  I’m really sorry about your situation :( Altho...    25  eecwqtt\n",
       "1    It's wonderful because it's awful. At not with.     0  ed5f85d"
      ]
     },
     "execution_count": 13,
     "metadata": {},
     "output_type": "execute_result"
    }
   ],
   "source": [
    "test_df.head(2)"
   ]
  },
  {
   "cell_type": "code",
   "execution_count": 14,
   "metadata": {},
   "outputs": [],
   "source": [
    "selected_data_df = test_df[[\"label\", \"id\"]].set_index(\"id\").join(\n",
    "    full_data_df.set_index(\"id\"), on=\"id\"\n",
    ").reset_index()"
   ]
  },
  {
   "cell_type": "code",
   "execution_count": 15,
   "metadata": {},
   "outputs": [],
   "source": [
    "train_data_df = train_df[[\"label\", \"id\"]].set_index(\"id\").join(\n",
    "    full_data_df.set_index(\"id\"), on=\"id\"\n",
    ").reset_index()"
   ]
  },
  {
   "cell_type": "code",
   "execution_count": 16,
   "metadata": {},
   "outputs": [
    {
     "data": {
      "text/html": [
       "<div>\n",
       "<style scoped>\n",
       "    .dataframe tbody tr th:only-of-type {\n",
       "        vertical-align: middle;\n",
       "    }\n",
       "\n",
       "    .dataframe tbody tr th {\n",
       "        vertical-align: top;\n",
       "    }\n",
       "\n",
       "    .dataframe thead th {\n",
       "        text-align: right;\n",
       "    }\n",
       "</style>\n",
       "<table border=\"1\" class=\"dataframe\">\n",
       "  <thead>\n",
       "    <tr style=\"text-align: right;\">\n",
       "      <th></th>\n",
       "      <th>id</th>\n",
       "      <th>label</th>\n",
       "      <th>text</th>\n",
       "      <th>author</th>\n",
       "      <th>subreddit</th>\n",
       "      <th>link_id</th>\n",
       "      <th>parent_id</th>\n",
       "      <th>created_utc</th>\n",
       "      <th>rater_id</th>\n",
       "      <th>example_very_unclear</th>\n",
       "      <th>...</th>\n",
       "      <th>love</th>\n",
       "      <th>nervousness</th>\n",
       "      <th>optimism</th>\n",
       "      <th>pride</th>\n",
       "      <th>realization</th>\n",
       "      <th>relief</th>\n",
       "      <th>remorse</th>\n",
       "      <th>sadness</th>\n",
       "      <th>surprise</th>\n",
       "      <th>neutral</th>\n",
       "    </tr>\n",
       "  </thead>\n",
       "  <tbody>\n",
       "    <tr>\n",
       "      <th>0</th>\n",
       "      <td>eecwqtt</td>\n",
       "      <td>25</td>\n",
       "      <td>I’m really sorry about your situation :( Altho...</td>\n",
       "      <td>whiteknight617</td>\n",
       "      <td>relationship_advice</td>\n",
       "      <td>t3_ah98jv</td>\n",
       "      <td>t3_ah98jv</td>\n",
       "      <td>1.547823e+09</td>\n",
       "      <td>20</td>\n",
       "      <td>False</td>\n",
       "      <td>...</td>\n",
       "      <td>1</td>\n",
       "      <td>0</td>\n",
       "      <td>0</td>\n",
       "      <td>0</td>\n",
       "      <td>0</td>\n",
       "      <td>0</td>\n",
       "      <td>0</td>\n",
       "      <td>1</td>\n",
       "      <td>0</td>\n",
       "      <td>0</td>\n",
       "    </tr>\n",
       "    <tr>\n",
       "      <th>1</th>\n",
       "      <td>eecwqtt</td>\n",
       "      <td>25</td>\n",
       "      <td>I’m really sorry about your situation :( Altho...</td>\n",
       "      <td>whiteknight617</td>\n",
       "      <td>relationship_advice</td>\n",
       "      <td>t3_ah98jv</td>\n",
       "      <td>t3_ah98jv</td>\n",
       "      <td>1.547823e+09</td>\n",
       "      <td>49</td>\n",
       "      <td>False</td>\n",
       "      <td>...</td>\n",
       "      <td>0</td>\n",
       "      <td>0</td>\n",
       "      <td>0</td>\n",
       "      <td>0</td>\n",
       "      <td>0</td>\n",
       "      <td>0</td>\n",
       "      <td>0</td>\n",
       "      <td>1</td>\n",
       "      <td>0</td>\n",
       "      <td>0</td>\n",
       "    </tr>\n",
       "  </tbody>\n",
       "</table>\n",
       "<p>2 rows × 38 columns</p>\n",
       "</div>"
      ],
      "text/plain": [
       "        id label                                               text  \\\n",
       "0  eecwqtt    25  I’m really sorry about your situation :( Altho...   \n",
       "1  eecwqtt    25  I’m really sorry about your situation :( Altho...   \n",
       "\n",
       "           author            subreddit    link_id  parent_id   created_utc  \\\n",
       "0  whiteknight617  relationship_advice  t3_ah98jv  t3_ah98jv  1.547823e+09   \n",
       "1  whiteknight617  relationship_advice  t3_ah98jv  t3_ah98jv  1.547823e+09   \n",
       "\n",
       "   rater_id  example_very_unclear  ...  love  nervousness  optimism  pride  \\\n",
       "0        20                 False  ...     1            0         0      0   \n",
       "1        49                 False  ...     0            0         0      0   \n",
       "\n",
       "   realization  relief  remorse  sadness  surprise  neutral  \n",
       "0            0       0        0        1         0        0  \n",
       "1            0       0        0        1         0        0  \n",
       "\n",
       "[2 rows x 38 columns]"
      ]
     },
     "execution_count": 16,
     "metadata": {},
     "output_type": "execute_result"
    }
   ],
   "source": [
    "selected_data_df.head(2)"
   ]
  },
  {
   "cell_type": "code",
   "execution_count": 17,
   "metadata": {},
   "outputs": [
    {
     "data": {
      "text/plain": [
       "4     1010\n",
       "61     919\n",
       "37     878\n",
       "2      553\n",
       "52     544\n",
       "      ... \n",
       "80       8\n",
       "65       8\n",
       "0        7\n",
       "53       6\n",
       "47       2\n",
       "Name: rater_id, Length: 81, dtype: int64"
      ]
     },
     "execution_count": 17,
     "metadata": {},
     "output_type": "execute_result"
    }
   ],
   "source": [
    "selected_data_df[\"rater_id\"].value_counts()"
   ]
  },
  {
   "cell_type": "markdown",
   "metadata": {},
   "source": [
    "## Zebranie surowych anotacji"
   ]
  },
  {
   "cell_type": "code",
   "execution_count": 18,
   "metadata": {},
   "outputs": [],
   "source": [
    "selected_data_df = selected_data_df.rename(columns={\"label\": \"final_label\"})"
   ]
  },
  {
   "cell_type": "code",
   "execution_count": 19,
   "metadata": {},
   "outputs": [],
   "source": [
    "def get_rater_labels(row) -> list[str]:\n",
    "    return [\n",
    "        label\n",
    "        for label in labels\n",
    "        if row[label] == 1\n",
    "    ]"
   ]
  },
  {
   "cell_type": "code",
   "execution_count": 20,
   "metadata": {},
   "outputs": [],
   "source": [
    "selected_data_df[\"rater_label\"] = selected_data_df.apply(get_rater_labels, axis=1)\n",
    "train_data_df[\"rater_label\"] = train_data_df.apply(get_rater_labels, axis=1)"
   ]
  },
  {
   "cell_type": "code",
   "execution_count": 21,
   "metadata": {},
   "outputs": [],
   "source": [
    "selected_data_df = selected_data_df.rename(columns={\"id\": \"text_id\"})\n",
    "train_data_df = train_data_df.rename(columns={\"id\": \"text_id\"})"
   ]
  },
  {
   "cell_type": "markdown",
   "metadata": {},
   "source": [
    "## Zapisanie danych treningowych"
   ]
  },
  {
   "cell_type": "code",
   "execution_count": 22,
   "metadata": {},
   "outputs": [],
   "source": [
    "train_data_df.to_csv(\"train.csv\", sep=\";\")"
   ]
  },
  {
   "cell_type": "markdown",
   "metadata": {},
   "source": [
    "## Wybranie podzbioru wszystkich danych"
   ]
  },
  {
   "cell_type": "code",
   "execution_count": 23,
   "metadata": {},
   "outputs": [
    {
     "name": "stdout",
     "output_type": "stream",
     "text": [
      "All annotations: 19470\n",
      "After selection: 1151\n"
     ]
    }
   ],
   "source": [
    "print(\"All annotations:\", len(selected_data_df))\n",
    "# For reproducibility\n",
    "random_state = np.random.RandomState(seed=7)\n",
    "selected_data_df[\"selected\"] = False\n",
    "for rater_id in range(0, selected_data_df[\"rater_id\"].max() + 1):\n",
    "    rater_df = selected_data_df[selected_data_df[\"rater_id\"] == rater_id]\n",
    "    # Select samples\n",
    "    rater_df = rater_df.sample(\n",
    "        min(MAX_N_SAMPLES_PER_ANNOTATOR, len(rater_df)),\n",
    "        random_state=random_state,\n",
    "    )\n",
    "    selected_data_df.loc[rater_df.index, \"selected\"] = True\n",
    "selected_data_df = selected_data_df[selected_data_df[\"selected\"]]\n",
    "selected_data_df = selected_data_df.drop(columns=\"selected\")\n",
    "selected_data_df = selected_data_df.sort_values(by=\"rater_id\")\n",
    "print(\"After selection:\", len(selected_data_df))"
   ]
  },
  {
   "cell_type": "markdown",
   "metadata": {
    "tags": []
   },
   "source": [
    "## Przygotowanie zbioru danych bez kontekstu"
   ]
  },
  {
   "cell_type": "code",
   "execution_count": 24,
   "metadata": {},
   "outputs": [],
   "source": [
    "def create_prompt_without_context(row):\n",
    "    prompt =\"\"\"\\\n",
    "From the given list of all emotions, choose the ones that the input text arouses in most people reading it.\n",
    "List of all emotions: admiration, amusement, anger, annoyance, approval, caring, confusion, curiosity, desire, disappointment, disapproval, disgust, embarrassment, excitement, fear, gratitude, grief, joy, love, nervousness, optimism, pride, realization, relief, remorse, sadness, surprise, neutral.\n",
    "Text: {text}.\n",
    "Write your answer in the form of a Python list containing exactly {n_labels} unique selected most matching {emotion}.\n",
    "Do not explain yourself.\"\"\".format(\n",
    "        text=row.text,\n",
    "        n_labels=len(row.rater_label),\n",
    "        emotion='emotion' if len(row.rater_label) == 1 else 'emotions',\n",
    "    )\n",
    "    return prompt"
   ]
  },
  {
   "cell_type": "code",
   "execution_count": 25,
   "metadata": {},
   "outputs": [
    {
     "data": {
      "text/plain": [
       "['gratitude']"
      ]
     },
     "metadata": {},
     "output_type": "display_data"
    },
    {
     "data": {
      "text/plain": [
       "'From the given list of all emotions, choose the ones that the input text arouses in most people reading it.\\nList of all emotions: admiration, amusement, anger, annoyance, approval, caring, confusion, curiosity, desire, disappointment, disapproval, disgust, embarrassment, excitement, fear, gratitude, grief, joy, love, nervousness, optimism, pride, realization, relief, remorse, sadness, surprise, neutral.\\nText: Please ask questions about moving to Denver in the Q&A sticky, thanks! Short answer: no .\\nWrite your answer in the form of a Python list containing exactly 1 unique selected most matching emotion.\\nDo not explain yourself.'"
      ]
     },
     "metadata": {},
     "output_type": "display_data"
    }
   ],
   "source": [
    "idx = 3\n",
    "display(selected_data_df.iloc[idx].rater_label)\n",
    "display(create_prompt_without_context(selected_data_df.iloc[idx]))"
   ]
  },
  {
   "cell_type": "code",
   "execution_count": 26,
   "metadata": {},
   "outputs": [],
   "source": [
    "prompts_df = selected_data_df[\n",
    "    [\n",
    "        \"text_id\",\n",
    "        \"rater_id\",\n",
    "        \"text\",\n",
    "        \"rater_label\",\n",
    "    ]\n",
    "].reset_index(drop=True)\n",
    "prompts_df[\"id\"] = prompts_df.index\n",
    "prompts_df[\"prompt\"] = prompts_df.apply(\n",
    "    create_prompt_without_context,\n",
    "    axis=1,\n",
    ")"
   ]
  },
  {
   "cell_type": "code",
   "execution_count": 27,
   "metadata": {},
   "outputs": [
    {
     "data": {
      "text/html": [
       "<div>\n",
       "<style scoped>\n",
       "    .dataframe tbody tr th:only-of-type {\n",
       "        vertical-align: middle;\n",
       "    }\n",
       "\n",
       "    .dataframe tbody tr th {\n",
       "        vertical-align: top;\n",
       "    }\n",
       "\n",
       "    .dataframe thead th {\n",
       "        text-align: right;\n",
       "    }\n",
       "</style>\n",
       "<table border=\"1\" class=\"dataframe\">\n",
       "  <thead>\n",
       "    <tr style=\"text-align: right;\">\n",
       "      <th></th>\n",
       "      <th>text_id</th>\n",
       "      <th>rater_id</th>\n",
       "      <th>text</th>\n",
       "      <th>rater_label</th>\n",
       "      <th>id</th>\n",
       "      <th>prompt</th>\n",
       "    </tr>\n",
       "  </thead>\n",
       "  <tbody>\n",
       "    <tr>\n",
       "      <th>0</th>\n",
       "      <td>edrwj9z</td>\n",
       "      <td>0</td>\n",
       "      <td>That’s how I outfitted my team in that awesome...</td>\n",
       "      <td>[excitement, joy]</td>\n",
       "      <td>0</td>\n",
       "      <td>From the given list of all emotions, choose th...</td>\n",
       "    </tr>\n",
       "    <tr>\n",
       "      <th>1</th>\n",
       "      <td>ed5g4ed</td>\n",
       "      <td>0</td>\n",
       "      <td>All I want for Christmas is a broken home</td>\n",
       "      <td>[desire]</td>\n",
       "      <td>1</td>\n",
       "      <td>From the given list of all emotions, choose th...</td>\n",
       "    </tr>\n",
       "  </tbody>\n",
       "</table>\n",
       "</div>"
      ],
      "text/plain": [
       "   text_id  rater_id                                               text  \\\n",
       "0  edrwj9z         0  That’s how I outfitted my team in that awesome...   \n",
       "1  ed5g4ed         0          All I want for Christmas is a broken home   \n",
       "\n",
       "         rater_label  id                                             prompt  \n",
       "0  [excitement, joy]   0  From the given list of all emotions, choose th...  \n",
       "1           [desire]   1  From the given list of all emotions, choose th...  "
      ]
     },
     "execution_count": 27,
     "metadata": {},
     "output_type": "execute_result"
    }
   ],
   "source": [
    "prompts_df.head(2)"
   ]
  },
  {
   "cell_type": "code",
   "execution_count": 28,
   "metadata": {},
   "outputs": [],
   "source": [
    "prompts_df.to_csv(f\"go_emotions_no_context.csv\", sep=\";\")"
   ]
  },
  {
   "cell_type": "markdown",
   "metadata": {},
   "source": [
    "## Przygotowanie zbioru danych z kontekstem"
   ]
  },
  {
   "cell_type": "code",
   "execution_count": 29,
   "metadata": {},
   "outputs": [],
   "source": [
    "def create_prompt_with_context(row):\n",
    "    other_rater_rows = train_data_df[\n",
    "        (train_data_df[\"rater_id\"] == row.rater_id)\n",
    "        & (train_data_df[\"text_id\"] != row.text_id)\n",
    "    ]\n",
    "    selected_rater_rows = other_rater_rows.sample(\n",
    "        min(NUMBER_OF_MAX_CONTEXTS, len(other_rater_rows))  # There is single annotator with 2 texts\n",
    "    )\n",
    "    prompt =\"\"\"\\\n",
    "Knowing that a certain person described known texts with provided emotions:\n",
    "{prompts}\n",
    "With what emotions would this person describe the unknown text?\n",
    "List of all emotions: admiration, amusement, anger, annoyance, approval, caring, confusion, curiosity, desire, disappointment, disapproval, disgust, embarrassment, excitement, fear, gratitude, grief, joy, love, nervousness, optimism, pride, realization, relief, remorse, sadness, surprise, neutral.\n",
    "Unknown text: {text}.\n",
    "Write your answer in the form of a Python list containing exactly {n_labels} unique selected most matching {emotion}.\n",
    "Do not explain yourself.\"\"\".format(\n",
    "        prompts=\".\\n\".join(\n",
    "            [\n",
    "                \"Known text: {text}; {emotion}: {rater_emotions}\".format(\n",
    "                    text=row.text,\n",
    "                    emotion='Emotion' if len(row.rater_label) == 1 else 'Emotions',\n",
    "                    rater_emotions=\", \".join(row.rater_label)\n",
    "                )\n",
    "                for _, row in selected_rater_rows.iterrows()\n",
    "            ]\n",
    "        ),\n",
    "        text=row.text,\n",
    "        n_labels=len(row.rater_label),\n",
    "        emotion='emotion' if len(row.rater_label) == 1 else 'emotions',\n",
    "    )\n",
    "    return prompt"
   ]
  },
  {
   "cell_type": "code",
   "execution_count": 30,
   "metadata": {},
   "outputs": [
    {
     "data": {
      "text/plain": [
       "['gratitude']"
      ]
     },
     "metadata": {},
     "output_type": "display_data"
    },
    {
     "data": {
      "text/plain": [
       "'Knowing that a certain person described known texts with provided emotions:\\nKnown text: 7 billion people doing things realtime is not to be underestimated; Emotion: neutral.\\nKnown text: Omfg the worst!! want to pull my hair out!!; Emotions: annoyance, disgust.\\nKnown text: No worries. Have a nice day.; Emotions: joy, realization\\nWith what emotions would this person describe the unknown text?\\nList of all emotions: admiration, amusement, anger, annoyance, approval, caring, confusion, curiosity, desire, disappointment, disapproval, disgust, embarrassment, excitement, fear, gratitude, grief, joy, love, nervousness, optimism, pride, realization, relief, remorse, sadness, surprise, neutral.\\nUnknown text: Please ask questions about moving to Denver in the Q&A sticky, thanks! Short answer: no .\\nWrite your answer in the form of a Python list containing exactly 1 unique selected most matching emotion.\\nDo not explain yourself.'"
      ]
     },
     "metadata": {},
     "output_type": "display_data"
    }
   ],
   "source": [
    "idx = 3\n",
    "display(selected_data_df.iloc[idx].rater_label)\n",
    "display(create_prompt_with_context(selected_data_df.iloc[idx]))"
   ]
  },
  {
   "cell_type": "code",
   "execution_count": 31,
   "metadata": {},
   "outputs": [],
   "source": [
    "contextualized_prompts_df = selected_data_df[\n",
    "    [\n",
    "        \"text_id\",\n",
    "        \"rater_id\",\n",
    "        \"text\",\n",
    "        \"rater_label\",\n",
    "    ]\n",
    "].reset_index(drop=True)\n",
    "contextualized_prompts_df[\"id\"] = contextualized_prompts_df.index\n",
    "contextualized_prompts_df[\"prompt\"] = contextualized_prompts_df.apply(\n",
    "    create_prompt_with_context,\n",
    "    axis=1,\n",
    ")"
   ]
  },
  {
   "cell_type": "code",
   "execution_count": 32,
   "metadata": {},
   "outputs": [
    {
     "data": {
      "text/html": [
       "<div>\n",
       "<style scoped>\n",
       "    .dataframe tbody tr th:only-of-type {\n",
       "        vertical-align: middle;\n",
       "    }\n",
       "\n",
       "    .dataframe tbody tr th {\n",
       "        vertical-align: top;\n",
       "    }\n",
       "\n",
       "    .dataframe thead th {\n",
       "        text-align: right;\n",
       "    }\n",
       "</style>\n",
       "<table border=\"1\" class=\"dataframe\">\n",
       "  <thead>\n",
       "    <tr style=\"text-align: right;\">\n",
       "      <th></th>\n",
       "      <th>text_id</th>\n",
       "      <th>rater_id</th>\n",
       "      <th>text</th>\n",
       "      <th>rater_label</th>\n",
       "      <th>id</th>\n",
       "      <th>prompt</th>\n",
       "    </tr>\n",
       "  </thead>\n",
       "  <tbody>\n",
       "    <tr>\n",
       "      <th>0</th>\n",
       "      <td>edrwj9z</td>\n",
       "      <td>0</td>\n",
       "      <td>That’s how I outfitted my team in that awesome...</td>\n",
       "      <td>[excitement, joy]</td>\n",
       "      <td>0</td>\n",
       "      <td>Knowing that a certain person described known ...</td>\n",
       "    </tr>\n",
       "    <tr>\n",
       "      <th>1</th>\n",
       "      <td>ed5g4ed</td>\n",
       "      <td>0</td>\n",
       "      <td>All I want for Christmas is a broken home</td>\n",
       "      <td>[desire]</td>\n",
       "      <td>1</td>\n",
       "      <td>Knowing that a certain person described known ...</td>\n",
       "    </tr>\n",
       "  </tbody>\n",
       "</table>\n",
       "</div>"
      ],
      "text/plain": [
       "   text_id  rater_id                                               text  \\\n",
       "0  edrwj9z         0  That’s how I outfitted my team in that awesome...   \n",
       "1  ed5g4ed         0          All I want for Christmas is a broken home   \n",
       "\n",
       "         rater_label  id                                             prompt  \n",
       "0  [excitement, joy]   0  Knowing that a certain person described known ...  \n",
       "1           [desire]   1  Knowing that a certain person described known ...  "
      ]
     },
     "execution_count": 32,
     "metadata": {},
     "output_type": "execute_result"
    }
   ],
   "source": [
    "contextualized_prompts_df.head(2)"
   ]
  },
  {
   "cell_type": "code",
   "execution_count": 33,
   "metadata": {},
   "outputs": [],
   "source": [
    "contextualized_prompts_df.to_csv(f\"go_emotions_context_{NUMBER_OF_MAX_CONTEXTS}.csv\", sep=\";\")"
   ]
  },
  {
   "cell_type": "code",
   "execution_count": null,
   "metadata": {},
   "outputs": [],
   "source": []
  }
 ],
 "metadata": {
  "colab": {
   "authorship_tag": "ABX9TyMPWxqFF/b/R874VBRTXY/m",
   "provenance": [
    {
     "file_id": "1tH_vWfjTahxU8loCyZLzy7WN_FH1-_jR",
     "timestamp": 1674160105062
    }
   ]
  },
  "kernelspec": {
   "display_name": "Python 3 (ipykernel)",
   "language": "python",
   "name": "python3"
  },
  "language_info": {
   "codemirror_mode": {
    "name": "ipython",
    "version": 3
   },
   "file_extension": ".py",
   "mimetype": "text/x-python",
   "name": "python",
   "nbconvert_exporter": "python",
   "pygments_lexer": "ipython3",
   "version": "3.9.6"
  }
 },
 "nbformat": 4,
 "nbformat_minor": 4
}
