{
 "cells": [
  {
   "cell_type": "markdown",
   "id": "3ed6c72b-acb6-4481-9cec-64b1939cbba5",
   "metadata": {},
   "source": [
    "# Tweeteval stance detection"
   ]
  },
  {
   "cell_type": "code",
   "execution_count": 2,
   "id": "890a0cd8-49f1-48e7-b6c2-85391c13076b",
   "metadata": {},
   "outputs": [],
   "source": [
    "import pandas as pd\n",
    "from pathlib import Path\n",
    "import swifter\n",
    "from scipy.stats import entropy\n",
    "from collections import Counter"
   ]
  },
  {
   "cell_type": "code",
   "execution_count": 3,
   "id": "ab5aa97e-12f4-41c3-b972-67e3f01e52fc",
   "metadata": {},
   "outputs": [
    {
     "name": "stdout",
     "output_type": "stream",
     "text": [
      "/bin/bash: /home/oliwier/anaconda3/envs/representation/lib/libtinfo.so.6: no version information available (required by /bin/bash)\n",
      "Cloning into 'tweeteval'...\n",
      "remote: Enumerating objects: 370, done.\u001b[K\n",
      "remote: Counting objects: 100% (16/16), done.\u001b[K\n",
      "remote: Compressing objects: 100% (15/15), done.\u001b[K\n",
      "remote: Total 370 (delta 13), reused 1 (delta 1), pack-reused 354\u001b[K\n",
      "Receiving objects: 100% (370/370), 8.49 MiB | 12.01 MiB/s, done.\n",
      "Resolving deltas: 100% (122/122), done.\n"
     ]
    }
   ],
   "source": [
    "!git clone https://github.com/cardiffnlp/tweeteval.git"
   ]
  },
  {
   "cell_type": "code",
   "execution_count": 4,
   "id": "bd3d9995-6e70-4964-85d7-d3029445ac07",
   "metadata": {},
   "outputs": [],
   "source": [
    "DATA_DIR = Path(\"tweeteval\") / \"datasets\"\n",
    "STANCE_DIR = DATA_DIR / \"stance\"\n",
    "GPT_INPUT_PATH = Path(\"gpt-input\")\n",
    "\n",
    "GPT_INPUT_PATH.mkdir(exist_ok=True)"
   ]
  },
  {
   "cell_type": "code",
   "execution_count": 5,
   "id": "0778ff81-328b-4368-969b-261f5fc6dd65",
   "metadata": {},
   "outputs": [],
   "source": [
    "TOPICS = [\n",
    "    \"abortion\",\n",
    "    \"atheism\",\n",
    "    \"climate\",\n",
    "    \"feminist\",\n",
    "    \"hillary\",\n",
    "]\n",
    "\n",
    "TOPIC_MAP = {\n",
    "    \"abortion\": \"abortion\",\n",
    "    \"atheism\": \"atheism\",\n",
    "    \"feminist\": \"feminism\",\n",
    "    \"hillary\": \"hillary\",\n",
    "    \"climate\": \"climate\"\n",
    "}\n",
    "\n",
    "MAPPING = {\n",
    "    0: \"none\",\n",
    "    1: \"against\",\n",
    "    2: \"favor\"\n",
    "}\n",
    "\n",
    "RESULTS = [\"0\", \"1\", \"2\"]"
   ]
  },
  {
   "cell_type": "markdown",
   "id": "a815ee6f-19d7-46ce-8d73-cb1567014c0f",
   "metadata": {},
   "source": [
    "## Structure"
   ]
  },
  {
   "cell_type": "code",
   "execution_count": 6,
   "id": "db2334fd-584e-4261-a7a4-fd861e6488c5",
   "metadata": {},
   "outputs": [],
   "source": [
    "def load_test_data(dataset_path: Path):\n",
    "    df_text = pd.read_csv(dataset_path / \"test_text.txt\", sep=\"delimiter\", header=None, names=[\"text\"])\n",
    "    df_labels = pd.read_csv(dataset_path / \"test_labels.txt\", sep=\"delimiter\", header=None, names=[\"labels\"])\n",
    "    return pd.concat([df_text, df_labels], axis=1)"
   ]
  },
  {
   "cell_type": "code",
   "execution_count": 7,
   "id": "8692c0c4-e004-4102-8e88-d297c4a0838f",
   "metadata": {},
   "outputs": [
    {
     "name": "stderr",
     "output_type": "stream",
     "text": [
      "/tmp/ipykernel_15680/578883216.py:2: ParserWarning: Falling back to the 'python' engine because the 'c' engine does not support regex separators (separators > 1 char and different from '\\s+' are interpreted as regex); you can avoid this warning by specifying engine='python'.\n",
      "  df_text = pd.read_csv(dataset_path / \"test_text.txt\", sep=\"delimiter\", header=None, names=[\"text\"])\n",
      "/tmp/ipykernel_15680/578883216.py:3: ParserWarning: Falling back to the 'python' engine because the 'c' engine does not support regex separators (separators > 1 char and different from '\\s+' are interpreted as regex); you can avoid this warning by specifying engine='python'.\n",
      "  df_labels = pd.read_csv(dataset_path / \"test_labels.txt\", sep=\"delimiter\", header=None, names=[\"labels\"])\n"
     ]
    },
    {
     "data": {
      "text/html": [
       "<div>\n",
       "<style scoped>\n",
       "    .dataframe tbody tr th:only-of-type {\n",
       "        vertical-align: middle;\n",
       "    }\n",
       "\n",
       "    .dataframe tbody tr th {\n",
       "        vertical-align: top;\n",
       "    }\n",
       "\n",
       "    .dataframe thead th {\n",
       "        text-align: right;\n",
       "    }\n",
       "</style>\n",
       "<table border=\"1\" class=\"dataframe\">\n",
       "  <thead>\n",
       "    <tr style=\"text-align: right;\">\n",
       "      <th></th>\n",
       "      <th>text</th>\n",
       "      <th>labels</th>\n",
       "    </tr>\n",
       "  </thead>\n",
       "  <tbody>\n",
       "    <tr>\n",
       "      <th>0</th>\n",
       "      <td>#mtp @user How is deleting emails -part of the...</td>\n",
       "      <td>1</td>\n",
       "    </tr>\n",
       "    <tr>\n",
       "      <th>1</th>\n",
       "      <td>@user @user AndrewWhyDoYouCareAboutWhatIThink?...</td>\n",
       "      <td>1</td>\n",
       "    </tr>\n",
       "    <tr>\n",
       "      <th>2</th>\n",
       "      <td>The white male vote is solidly GOP. The black ...</td>\n",
       "      <td>1</td>\n",
       "    </tr>\n",
       "    <tr>\n",
       "      <th>3</th>\n",
       "      <td>@user big banker buds need to ratchet up their...</td>\n",
       "      <td>1</td>\n",
       "    </tr>\n",
       "    <tr>\n",
       "      <th>4</th>\n",
       "      <td>@user Why should I believe you on this? The GO...</td>\n",
       "      <td>1</td>\n",
       "    </tr>\n",
       "    <tr>\n",
       "      <th>...</th>\n",
       "      <td>...</td>\n",
       "      <td>...</td>\n",
       "    </tr>\n",
       "    <tr>\n",
       "      <th>290</th>\n",
       "      <td>.@HillaryClinton Looking 4ward 2 hearing your ...</td>\n",
       "      <td>2</td>\n",
       "    </tr>\n",
       "    <tr>\n",
       "      <th>291</th>\n",
       "      <td>@user I'm loving it too! Draw that contrast!!!...</td>\n",
       "      <td>0</td>\n",
       "    </tr>\n",
       "    <tr>\n",
       "      <th>292</th>\n",
       "      <td>@user Can't stand @user anymore, but hope @use...</td>\n",
       "      <td>2</td>\n",
       "    </tr>\n",
       "    <tr>\n",
       "      <th>293</th>\n",
       "      <td>Hillary can't create jobs! Last time she had a...</td>\n",
       "      <td>1</td>\n",
       "    </tr>\n",
       "    <tr>\n",
       "      <th>294</th>\n",
       "      <td>It's amazing to me how if you want a secure bo...</td>\n",
       "      <td>0</td>\n",
       "    </tr>\n",
       "  </tbody>\n",
       "</table>\n",
       "<p>295 rows × 2 columns</p>\n",
       "</div>"
      ],
      "text/plain": [
       "                                                  text  labels\n",
       "0    #mtp @user How is deleting emails -part of the...       1\n",
       "1    @user @user AndrewWhyDoYouCareAboutWhatIThink?...       1\n",
       "2    The white male vote is solidly GOP. The black ...       1\n",
       "3    @user big banker buds need to ratchet up their...       1\n",
       "4    @user Why should I believe you on this? The GO...       1\n",
       "..                                                 ...     ...\n",
       "290  .@HillaryClinton Looking 4ward 2 hearing your ...       2\n",
       "291  @user I'm loving it too! Draw that contrast!!!...       0\n",
       "292  @user Can't stand @user anymore, but hope @use...       2\n",
       "293  Hillary can't create jobs! Last time she had a...       1\n",
       "294  It's amazing to me how if you want a secure bo...       0\n",
       "\n",
       "[295 rows x 2 columns]"
      ]
     },
     "execution_count": 7,
     "metadata": {},
     "output_type": "execute_result"
    }
   ],
   "source": [
    "df = load_test_data(STANCE_DIR / \"hillary\")\n",
    "df"
   ]
  },
  {
   "cell_type": "code",
   "execution_count": 8,
   "id": "051f3af9-f424-486c-8ddd-c838defc5a84",
   "metadata": {},
   "outputs": [
    {
     "data": {
      "text/plain": [
       "0.9531036596165436"
      ]
     },
     "execution_count": 8,
     "metadata": {},
     "output_type": "execute_result"
    }
   ],
   "source": [
    "entropy(list(Counter(df.labels).values())) # dataset entropy"
   ]
  },
  {
   "cell_type": "markdown",
   "id": "890ebe04-5ee2-46ff-9072-bacf2fe0947d",
   "metadata": {},
   "source": [
    "## Prompts preparation"
   ]
  },
  {
   "cell_type": "code",
   "execution_count": 10,
   "id": "e38bf0cd-df32-4d51-8466-c388dd84db89",
   "metadata": {},
   "outputs": [],
   "source": [
    "MAIN_STORY = \"\"\"\n",
    "Assuming that you have to describe the stance from the given list which is evoked after \n",
    "reading the text about {} by majority of people, which one would you select? \n",
    "Map your answer with following none:  0, against: 1, favor: 2. Do not explain yourself.\n",
    "Input data:\n",
    "\n",
    "Text: {}\n",
    "\n",
    "Possible stances: {}\n",
    "\n",
    "\"\"\""
   ]
  },
  {
   "cell_type": "code",
   "execution_count": 11,
   "id": "17ca3cc5-4dc0-44ef-a7fa-c45424875588",
   "metadata": {},
   "outputs": [],
   "source": [
    "def process_dataframe(df: pd.DataFrame, output_path: str, topic: str):\n",
    "    final_answer = \"\"\n",
    "    for id_, row in df.iterrows():\n",
    "        final_answer += MAIN_STORY.format(topic, row[\"text\"], \", \".join(MAPPING.values()))\n",
    "\n",
    "    with open(output_path, \"w\") as output_file:\n",
    "        output_file.write(final_answer)"
   ]
  },
  {
   "cell_type": "code",
   "execution_count": 12,
   "id": "ea801661-b081-4216-ad23-a96109bd8598",
   "metadata": {},
   "outputs": [],
   "source": [
    "def generate_dataframe(df: pd.DataFrame, topic: str):\n",
    "    df[\"prompt\"] = df[\"text\"].swifter.apply(lambda row: MAIN_STORY.format(topic, row, \", \".join(MAPPING.values())))\n",
    "    df = df.drop([\"text\", \"labels\"], axis = 1)\n",
    "    df = df.reset_index(names=\"id\")\n",
    "    return df\n",
    "                                            "
   ]
  },
  {
   "cell_type": "code",
   "execution_count": 18,
   "id": "5bf2e782-5ecc-4980-b1a5-3324a7fb6edb",
   "metadata": {},
   "outputs": [
    {
     "name": "stderr",
     "output_type": "stream",
     "text": [
      "/tmp/ipykernel_11479/578883216.py:2: ParserWarning: Falling back to the 'python' engine because the 'c' engine does not support regex separators (separators > 1 char and different from '\\s+' are interpreted as regex); you can avoid this warning by specifying engine='python'.\n",
      "  df_text = pd.read_csv(dataset_path / \"test_text.txt\", sep=\"delimiter\", header=None, names=[\"text\"])\n",
      "/tmp/ipykernel_11479/578883216.py:3: ParserWarning: Falling back to the 'python' engine because the 'c' engine does not support regex separators (separators > 1 char and different from '\\s+' are interpreted as regex); you can avoid this warning by specifying engine='python'.\n",
      "  df_labels = pd.read_csv(dataset_path / \"test_labels.txt\", sep=\"delimiter\", header=None, names=[\"labels\"])\n"
     ]
    },
    {
     "data": {
      "application/json": {
       "ascii": false,
       "bar_format": null,
       "colour": null,
       "elapsed": 0.0045130252838134766,
       "initial": 0,
       "n": 0,
       "ncols": null,
       "nrows": 24,
       "postfix": null,
       "prefix": "Pandas Apply",
       "rate": null,
       "total": 280,
       "unit": "it",
       "unit_divisor": 1000,
       "unit_scale": false
      },
      "application/vnd.jupyter.widget-view+json": {
       "model_id": "9a2a92660f634185849a95547eda3b66",
       "version_major": 2,
       "version_minor": 0
      },
      "text/plain": [
       "Pandas Apply:   0%|          | 0/280 [00:00<?, ?it/s]"
      ]
     },
     "metadata": {},
     "output_type": "display_data"
    },
    {
     "name": "stderr",
     "output_type": "stream",
     "text": [
      "/tmp/ipykernel_11479/578883216.py:2: ParserWarning: Falling back to the 'python' engine because the 'c' engine does not support regex separators (separators > 1 char and different from '\\s+' are interpreted as regex); you can avoid this warning by specifying engine='python'.\n",
      "  df_text = pd.read_csv(dataset_path / \"test_text.txt\", sep=\"delimiter\", header=None, names=[\"text\"])\n",
      "/tmp/ipykernel_11479/578883216.py:3: ParserWarning: Falling back to the 'python' engine because the 'c' engine does not support regex separators (separators > 1 char and different from '\\s+' are interpreted as regex); you can avoid this warning by specifying engine='python'.\n",
      "  df_labels = pd.read_csv(dataset_path / \"test_labels.txt\", sep=\"delimiter\", header=None, names=[\"labels\"])\n"
     ]
    },
    {
     "data": {
      "application/json": {
       "ascii": false,
       "bar_format": null,
       "colour": null,
       "elapsed": 0.0057718753814697266,
       "initial": 0,
       "n": 0,
       "ncols": null,
       "nrows": 24,
       "postfix": null,
       "prefix": "Pandas Apply",
       "rate": null,
       "total": 220,
       "unit": "it",
       "unit_divisor": 1000,
       "unit_scale": false
      },
      "application/vnd.jupyter.widget-view+json": {
       "model_id": "beafda91c403411a83470c7bfdc77afb",
       "version_major": 2,
       "version_minor": 0
      },
      "text/plain": [
       "Pandas Apply:   0%|          | 0/220 [00:00<?, ?it/s]"
      ]
     },
     "metadata": {},
     "output_type": "display_data"
    },
    {
     "name": "stderr",
     "output_type": "stream",
     "text": [
      "/tmp/ipykernel_11479/578883216.py:2: ParserWarning: Falling back to the 'python' engine because the 'c' engine does not support regex separators (separators > 1 char and different from '\\s+' are interpreted as regex); you can avoid this warning by specifying engine='python'.\n",
      "  df_text = pd.read_csv(dataset_path / \"test_text.txt\", sep=\"delimiter\", header=None, names=[\"text\"])\n",
      "/tmp/ipykernel_11479/578883216.py:3: ParserWarning: Falling back to the 'python' engine because the 'c' engine does not support regex separators (separators > 1 char and different from '\\s+' are interpreted as regex); you can avoid this warning by specifying engine='python'.\n",
      "  df_labels = pd.read_csv(dataset_path / \"test_labels.txt\", sep=\"delimiter\", header=None, names=[\"labels\"])\n"
     ]
    },
    {
     "data": {
      "application/json": {
       "ascii": false,
       "bar_format": null,
       "colour": null,
       "elapsed": 0.004615306854248047,
       "initial": 0,
       "n": 0,
       "ncols": null,
       "nrows": 24,
       "postfix": null,
       "prefix": "Pandas Apply",
       "rate": null,
       "total": 285,
       "unit": "it",
       "unit_divisor": 1000,
       "unit_scale": false
      },
      "application/vnd.jupyter.widget-view+json": {
       "model_id": "31da4f006a0a4ea7a8212dd35cc7f1e4",
       "version_major": 2,
       "version_minor": 0
      },
      "text/plain": [
       "Pandas Apply:   0%|          | 0/285 [00:00<?, ?it/s]"
      ]
     },
     "metadata": {},
     "output_type": "display_data"
    },
    {
     "name": "stderr",
     "output_type": "stream",
     "text": [
      "/tmp/ipykernel_11479/578883216.py:2: ParserWarning: Falling back to the 'python' engine because the 'c' engine does not support regex separators (separators > 1 char and different from '\\s+' are interpreted as regex); you can avoid this warning by specifying engine='python'.\n",
      "  df_text = pd.read_csv(dataset_path / \"test_text.txt\", sep=\"delimiter\", header=None, names=[\"text\"])\n",
      "/tmp/ipykernel_11479/578883216.py:3: ParserWarning: Falling back to the 'python' engine because the 'c' engine does not support regex separators (separators > 1 char and different from '\\s+' are interpreted as regex); you can avoid this warning by specifying engine='python'.\n",
      "  df_labels = pd.read_csv(dataset_path / \"test_labels.txt\", sep=\"delimiter\", header=None, names=[\"labels\"])\n"
     ]
    },
    {
     "data": {
      "application/json": {
       "ascii": false,
       "bar_format": null,
       "colour": null,
       "elapsed": 0.0053272247314453125,
       "initial": 0,
       "n": 0,
       "ncols": null,
       "nrows": 24,
       "postfix": null,
       "prefix": "Pandas Apply",
       "rate": null,
       "total": 295,
       "unit": "it",
       "unit_divisor": 1000,
       "unit_scale": false
      },
      "application/vnd.jupyter.widget-view+json": {
       "model_id": "f7b12e34263b4a40b3bb7329b28c030c",
       "version_major": 2,
       "version_minor": 0
      },
      "text/plain": [
       "Pandas Apply:   0%|          | 0/295 [00:00<?, ?it/s]"
      ]
     },
     "metadata": {},
     "output_type": "display_data"
    },
    {
     "name": "stderr",
     "output_type": "stream",
     "text": [
      "/tmp/ipykernel_11479/578883216.py:2: ParserWarning: Falling back to the 'python' engine because the 'c' engine does not support regex separators (separators > 1 char and different from '\\s+' are interpreted as regex); you can avoid this warning by specifying engine='python'.\n",
      "  df_text = pd.read_csv(dataset_path / \"test_text.txt\", sep=\"delimiter\", header=None, names=[\"text\"])\n",
      "/tmp/ipykernel_11479/578883216.py:3: ParserWarning: Falling back to the 'python' engine because the 'c' engine does not support regex separators (separators > 1 char and different from '\\s+' are interpreted as regex); you can avoid this warning by specifying engine='python'.\n",
      "  df_labels = pd.read_csv(dataset_path / \"test_labels.txt\", sep=\"delimiter\", header=None, names=[\"labels\"])\n"
     ]
    },
    {
     "data": {
      "application/json": {
       "ascii": false,
       "bar_format": null,
       "colour": null,
       "elapsed": 0.004935503005981445,
       "initial": 0,
       "n": 0,
       "ncols": null,
       "nrows": 24,
       "postfix": null,
       "prefix": "Pandas Apply",
       "rate": null,
       "total": 169,
       "unit": "it",
       "unit_divisor": 1000,
       "unit_scale": false
      },
      "application/vnd.jupyter.widget-view+json": {
       "model_id": "b4f0c41e7f5c475c811e0360f7178b97",
       "version_major": 2,
       "version_minor": 0
      },
      "text/plain": [
       "Pandas Apply:   0%|          | 0/169 [00:00<?, ?it/s]"
      ]
     },
     "metadata": {},
     "output_type": "display_data"
    }
   ],
   "source": [
    "for topic, topic_name in TOPIC_MAP.items():\n",
    "    new_df = generate_dataframe(load_test_data(STANCE_DIR / topic), topic_name)\n",
    "    new_df.to_csv(GPT_INPUT_PATH / f\"{topic}.csv\", index=False)"
   ]
  }
 ],
 "metadata": {
  "kernelspec": {
   "display_name": "Python 3 (ipykernel)",
   "language": "python",
   "name": "python3"
  },
  "language_info": {
   "codemirror_mode": {
    "name": "ipython",
    "version": 3
   },
   "file_extension": ".py",
   "mimetype": "text/x-python",
   "name": "python",
   "nbconvert_exporter": "python",
   "pygments_lexer": "ipython3",
   "version": "3.9.13"
  }
 },
 "nbformat": 4,
 "nbformat_minor": 5
}
