{
 "cells": [
  {
   "cell_type": "markdown",
   "id": "ee1a92cb-e826-4527-b2ac-92bf5bff23c9",
   "metadata": {},
   "source": [
    "# Tweeteval sentiment detection"
   ]
  },
  {
   "cell_type": "code",
   "execution_count": 12,
   "id": "f92c02b8-afef-4f1b-895b-95d44013f8a3",
   "metadata": {},
   "outputs": [],
   "source": [
    "import pandas as pd\n",
    "from pathlib import Path\n",
    "import swifter\n",
    "from scipy.stats import entropy\n",
    "from collections import Counter"
   ]
  },
  {
   "cell_type": "code",
   "execution_count": 3,
   "id": "af00ec3c-ece0-4d16-9989-a51d83a9c2da",
   "metadata": {},
   "outputs": [
    {
     "name": "stdout",
     "output_type": "stream",
     "text": [
      "/bin/bash: /home/oliwier/anaconda3/envs/representation/lib/libtinfo.so.6: no version information available (required by /bin/bash)\n",
      "Cloning into 'tweeteval'...\n",
      "remote: Enumerating objects: 370, done.\u001b[K\n",
      "remote: Counting objects: 100% (16/16), done.\u001b[K\n",
      "remote: Compressing objects: 100% (15/15), done.\u001b[K\n",
      "remote: Total 370 (delta 13), reused 1 (delta 1), pack-reused 354\u001b[K\n",
      "Receiving objects: 100% (370/370), 8.49 MiB | 18.50 MiB/s, done.\n",
      "Resolving deltas: 100% (122/122), done.\n"
     ]
    }
   ],
   "source": [
    "!git clone https://github.com/cardiffnlp/tweeteval.git"
   ]
  },
  {
   "cell_type": "code",
   "execution_count": 4,
   "id": "4ffaef70-17a3-49bc-904b-03b893c61f65",
   "metadata": {},
   "outputs": [],
   "source": [
    "DATA_DIR = Path(\"tweeteval\") / \"datasets\"\n",
    "SENTIMENT_DIR = DATA_DIR / \"sentiment\"\n",
    "GPT_INPUT_PATH = Path(\"gpt-input\")\n",
    "\n",
    "GPT_INPUT_PATH.mkdir(exist_ok=True)"
   ]
  },
  {
   "cell_type": "code",
   "execution_count": 5,
   "id": "4e8cf731-03c1-4d4c-b702-ff6b69ecbc0f",
   "metadata": {},
   "outputs": [],
   "source": [
    "MAPPING = {\n",
    "    \"0\":\t\"negative\",\n",
    "    \"1\":\t\"neutral\",\n",
    "    \"2\":\t\"positive\"\n",
    "\n",
    "}\n",
    "\n",
    "RESULTS = [\"0\", \"1\", \"2\"]"
   ]
  },
  {
   "cell_type": "code",
   "execution_count": 6,
   "id": "32004b7f-641d-4c3c-b802-693025d00000",
   "metadata": {},
   "outputs": [],
   "source": [
    "MAIN_STORY = \"\"\"\n",
    "Describe the sentiment of the given text. Choose your answer from provided list and\n",
    "map your answer with following negative: 0, neutral: 1, positive: 2 and return an integer as a result. Do not explain yourself.\n",
    "Input data:\n",
    "\n",
    "Text: {}\n",
    "\n",
    "Possible sentiment: negative, neutral, positive\n",
    "\"\"\""
   ]
  },
  {
   "cell_type": "code",
   "execution_count": 7,
   "id": "4a597ed9-d0b1-485c-9ba1-dc23c748f676",
   "metadata": {},
   "outputs": [],
   "source": [
    "def load_test_data(dataset_path: Path):\n",
    "    df_text = pd.read_csv(dataset_path / \"test_text.txt\", sep=\"delimiter\", header=None, names=[\"text\"])\n",
    "    df_labels = pd.read_csv(dataset_path / \"test_labels.txt\", sep=\"delimiter\", header=None, names=[\"labels\"])\n",
    "    return pd.concat([df_text, df_labels], axis=1)"
   ]
  },
  {
   "cell_type": "code",
   "execution_count": 8,
   "id": "3dbc3b76-719a-4f04-b700-0687b08dd694",
   "metadata": {},
   "outputs": [
    {
     "name": "stderr",
     "output_type": "stream",
     "text": [
      "/tmp/ipykernel_13229/578883216.py:2: ParserWarning: Falling back to the 'python' engine because the 'c' engine does not support regex separators (separators > 1 char and different from '\\s+' are interpreted as regex); you can avoid this warning by specifying engine='python'.\n",
      "  df_text = pd.read_csv(dataset_path / \"test_text.txt\", sep=\"delimiter\", header=None, names=[\"text\"])\n",
      "/tmp/ipykernel_13229/578883216.py:3: ParserWarning: Falling back to the 'python' engine because the 'c' engine does not support regex separators (separators > 1 char and different from '\\s+' are interpreted as regex); you can avoid this warning by specifying engine='python'.\n",
      "  df_labels = pd.read_csv(dataset_path / \"test_labels.txt\", sep=\"delimiter\", header=None, names=[\"labels\"])\n"
     ]
    },
    {
     "data": {
      "text/html": [
       "<div>\n",
       "<style scoped>\n",
       "    .dataframe tbody tr th:only-of-type {\n",
       "        vertical-align: middle;\n",
       "    }\n",
       "\n",
       "    .dataframe tbody tr th {\n",
       "        vertical-align: top;\n",
       "    }\n",
       "\n",
       "    .dataframe thead th {\n",
       "        text-align: right;\n",
       "    }\n",
       "</style>\n",
       "<table border=\"1\" class=\"dataframe\">\n",
       "  <thead>\n",
       "    <tr style=\"text-align: right;\">\n",
       "      <th></th>\n",
       "      <th>text</th>\n",
       "      <th>labels</th>\n",
       "    </tr>\n",
       "  </thead>\n",
       "  <tbody>\n",
       "    <tr>\n",
       "      <th>0</th>\n",
       "      <td>@user @user what do these '1/2 naked pics' hav...</td>\n",
       "      <td>1</td>\n",
       "    </tr>\n",
       "    <tr>\n",
       "      <th>1</th>\n",
       "      <td>OH: “I had a blue penis while I was this” [pla...</td>\n",
       "      <td>1</td>\n",
       "    </tr>\n",
       "    <tr>\n",
       "      <th>2</th>\n",
       "      <td>@user @user That's coming, but I think the vic...</td>\n",
       "      <td>1</td>\n",
       "    </tr>\n",
       "    <tr>\n",
       "      <th>3</th>\n",
       "      <td>I think I may be finally in with the in crowd ...</td>\n",
       "      <td>2</td>\n",
       "    </tr>\n",
       "    <tr>\n",
       "      <th>4</th>\n",
       "      <td>@user Wow,first Hugo Chavez and now Fidel Cast...</td>\n",
       "      <td>0</td>\n",
       "    </tr>\n",
       "    <tr>\n",
       "      <th>...</th>\n",
       "      <td>...</td>\n",
       "      <td>...</td>\n",
       "    </tr>\n",
       "    <tr>\n",
       "      <th>12279</th>\n",
       "      <td>Sentinel Editorial: FBI’s Comey ‘had no one of...</td>\n",
       "      <td>1</td>\n",
       "    </tr>\n",
       "    <tr>\n",
       "      <th>12280</th>\n",
       "      <td>perfect pussy clips #vanessa hudgens zac efron...</td>\n",
       "      <td>1</td>\n",
       "    </tr>\n",
       "    <tr>\n",
       "      <th>12281</th>\n",
       "      <td>#latestnews 4 #newmexico #politics + #nativeam...</td>\n",
       "      <td>1</td>\n",
       "    </tr>\n",
       "    <tr>\n",
       "      <th>12282</th>\n",
       "      <td>Trying to have a conversation with my dad abou...</td>\n",
       "      <td>0</td>\n",
       "    </tr>\n",
       "    <tr>\n",
       "      <th>12283</th>\n",
       "      <td>@user You are a stand up guy and a Gentleman V...</td>\n",
       "      <td>2</td>\n",
       "    </tr>\n",
       "  </tbody>\n",
       "</table>\n",
       "<p>12284 rows × 2 columns</p>\n",
       "</div>"
      ],
      "text/plain": [
       "                                                    text  labels\n",
       "0      @user @user what do these '1/2 naked pics' hav...       1\n",
       "1      OH: “I had a blue penis while I was this” [pla...       1\n",
       "2      @user @user That's coming, but I think the vic...       1\n",
       "3      I think I may be finally in with the in crowd ...       2\n",
       "4      @user Wow,first Hugo Chavez and now Fidel Cast...       0\n",
       "...                                                  ...     ...\n",
       "12279  Sentinel Editorial: FBI’s Comey ‘had no one of...       1\n",
       "12280  perfect pussy clips #vanessa hudgens zac efron...       1\n",
       "12281  #latestnews 4 #newmexico #politics + #nativeam...       1\n",
       "12282  Trying to have a conversation with my dad abou...       0\n",
       "12283  @user You are a stand up guy and a Gentleman V...       2\n",
       "\n",
       "[12284 rows x 2 columns]"
      ]
     },
     "execution_count": 8,
     "metadata": {},
     "output_type": "execute_result"
    }
   ],
   "source": [
    "df = load_test_data(SENTIMENT_DIR)\n",
    "df"
   ]
  },
  {
   "cell_type": "code",
   "execution_count": 14,
   "id": "71533dff-a4d9-492c-943e-79d15a412152",
   "metadata": {},
   "outputs": [
    {
     "data": {
      "text/plain": [
       "1.0341982678002202"
      ]
     },
     "execution_count": 14,
     "metadata": {},
     "output_type": "execute_result"
    }
   ],
   "source": [
    "entropy(list(Counter(df.labels).values())) # dataset entropy"
   ]
  },
  {
   "cell_type": "code",
   "execution_count": 9,
   "id": "290c8ad9-e8e1-4c33-b18a-a6abf09e35e7",
   "metadata": {},
   "outputs": [],
   "source": [
    "def generate_dataframe(df: pd.DataFrame):\n",
    "    df[\"prompt\"] = df[\"text\"].swifter.apply(lambda row: MAIN_STORY.format(row))\n",
    "    df = df.drop([\"text\", \"labels\"], axis = 1)\n",
    "    df = df.reset_index(names=\"id\")\n",
    "    return df"
   ]
  },
  {
   "cell_type": "code",
   "execution_count": 13,
   "id": "bccc513b-0fbb-40b9-bbbd-fc635c8e91b6",
   "metadata": {},
   "outputs": [
    {
     "name": "stderr",
     "output_type": "stream",
     "text": [
      "/tmp/ipykernel_12016/578883216.py:2: ParserWarning: Falling back to the 'python' engine because the 'c' engine does not support regex separators (separators > 1 char and different from '\\s+' are interpreted as regex); you can avoid this warning by specifying engine='python'.\n",
      "  df_text = pd.read_csv(dataset_path / \"test_text.txt\", sep=\"delimiter\", header=None, names=[\"text\"])\n",
      "/tmp/ipykernel_12016/578883216.py:3: ParserWarning: Falling back to the 'python' engine because the 'c' engine does not support regex separators (separators > 1 char and different from '\\s+' are interpreted as regex); you can avoid this warning by specifying engine='python'.\n",
      "  df_labels = pd.read_csv(dataset_path / \"test_labels.txt\", sep=\"delimiter\", header=None, names=[\"labels\"])\n"
     ]
    },
    {
     "data": {
      "application/json": {
       "ascii": false,
       "bar_format": null,
       "colour": null,
       "elapsed": 0.004343271255493164,
       "initial": 0,
       "n": 0,
       "ncols": null,
       "nrows": 24,
       "postfix": null,
       "prefix": "Pandas Apply",
       "rate": null,
       "total": 12284,
       "unit": "it",
       "unit_divisor": 1000,
       "unit_scale": false
      },
      "application/vnd.jupyter.widget-view+json": {
       "model_id": "778e1f8dccd24597acff7aa90a830d25",
       "version_major": 2,
       "version_minor": 0
      },
      "text/plain": [
       "Pandas Apply:   0%|          | 0/12284 [00:00<?, ?it/s]"
      ]
     },
     "metadata": {},
     "output_type": "display_data"
    }
   ],
   "source": [
    "new_df = generate_dataframe(load_test_data(SENTIMENT_DIR))\n",
    "new_df.to_csv(GPT_INPUT_PATH / \"sentiment.csv\", index=False)"
   ]
  }
 ],
 "metadata": {
  "kernelspec": {
   "display_name": "Python 3 (ipykernel)",
   "language": "python",
   "name": "python3"
  },
  "language_info": {
   "codemirror_mode": {
    "name": "ipython",
    "version": 3
   },
   "file_extension": ".py",
   "mimetype": "text/x-python",
   "name": "python",
   "nbconvert_exporter": "python",
   "pygments_lexer": "ipython3",
   "version": "3.9.13"
  }
 },
 "nbformat": 4,
 "nbformat_minor": 5
}
