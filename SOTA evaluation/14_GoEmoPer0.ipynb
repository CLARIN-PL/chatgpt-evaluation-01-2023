{
 "cells": [
  {
   "cell_type": "markdown",
   "id": "ac392825-7bfb-4cf6-8532-05d7c40e63fe",
   "metadata": {},
   "source": [
    "# GoEmotions No Context Evaluation"
   ]
  },
  {
   "cell_type": "code",
   "execution_count": 1,
   "id": "f18fb3ee-99af-4327-a3ee-b9b85f056c4a",
   "metadata": {},
   "outputs": [],
   "source": [
    "from transformers import AutoTokenizer, BertForSequenceClassification\n",
    "import torch\n",
    "import pandas as pd\n",
    "import numpy as np\n",
    "from sklearn.metrics import accuracy_score, f1_score\n",
    "import seaborn as sns\n",
    "import matplotlib.pyplot as plt\n",
    "from ast import literal_eval\n",
    "from collections import Counter\n",
    "from scipy.stats import entropy"
   ]
  },
  {
   "cell_type": "code",
   "execution_count": 2,
   "id": "54c7e5b1-6ac8-40ff-a6ed-3d8b4e4b7b4c",
   "metadata": {},
   "outputs": [],
   "source": [
    "sns.set(rc={'figure.figsize':(12, 8)})"
   ]
  },
  {
   "cell_type": "markdown",
   "id": "83df63e7-2467-464e-a9b8-03875b93ac50",
   "metadata": {},
   "source": [
    "## Data"
   ]
  },
  {
   "cell_type": "code",
   "execution_count": 3,
   "id": "61f10a8c-a70a-4b5a-86e6-e23144041e70",
   "metadata": {},
   "outputs": [],
   "source": [
    "#!wget https://raw.githubusercontent.com/google-research/google-research/master/goemotions/data/emotions.txt"
   ]
  },
  {
   "cell_type": "markdown",
   "id": "47c64ab0-32fa-47ee-b0bc-181b6c552baf",
   "metadata": {},
   "source": [
    "## Preparations"
   ]
  },
  {
   "cell_type": "code",
   "execution_count": 4,
   "id": "a5453ccd-47dc-46e0-81e3-a2ad2330f3d6",
   "metadata": {},
   "outputs": [],
   "source": [
    "labels_df = pd.read_csv('emotions.txt', header=None)\n",
    "ID_TO_EMOTION = dict(labels_df[0])\n",
    "EMOTION_TO_ID = {emotion: emotion_id for emotion_id, emotion in ID_TO_EMOTION.items()}"
   ]
  },
  {
   "cell_type": "code",
   "execution_count": 5,
   "id": "23306e36-3d37-4f1a-b272-c5e8577f6fc9",
   "metadata": {},
   "outputs": [],
   "source": [
    "GPT_EVALUTION_FILE_PATH = \"datasets/Ewaluacja ChatGPT - zadania - GoEmotion Personalized Without Context.csv\""
   ]
  },
  {
   "cell_type": "code",
   "execution_count": 6,
   "id": "8e410d54-dd52-4300-aa11-a34251afb1ff",
   "metadata": {},
   "outputs": [],
   "source": [
    "gpt_evaluation_df = pd.read_csv(GPT_EVALUTION_FILE_PATH)"
   ]
  },
  {
   "cell_type": "markdown",
   "id": "0ebeb85a-f528-4a99-b3c6-49b4ddc9fe61",
   "metadata": {},
   "source": [
    "## Statystyki"
   ]
  },
  {
   "cell_type": "code",
   "execution_count": 7,
   "id": "bfdcb5db-edd3-49c0-8d7d-9f5e396cc974",
   "metadata": {},
   "outputs": [
    {
     "name": "stdout",
     "output_type": "stream",
     "text": [
      "288 6\n",
      "2.982637337506349\n"
     ]
    }
   ],
   "source": [
    "gpt_evaluation_df[\"annotation\"] = gpt_evaluation_df[\"annotation\"].apply(literal_eval)\n",
    "counter = Counter(\n",
    "    gpt_evaluation_df[\"annotation\"].sum()\n",
    ")\n",
    "print(max(counter.values()), min(counter.values()))\n",
    "print(entropy(list(counter.values())))"
   ]
  },
  {
   "cell_type": "markdown",
   "id": "830ec5ae-7564-4f26-b2f1-8cb2d29c4b6b",
   "metadata": {},
   "source": [
    "## Preprocessing"
   ]
  },
  {
   "cell_type": "markdown",
   "id": "134a1b0a-4e3c-4a45-a1c8-8db12d0dde9b",
   "metadata": {},
   "source": [
    "### # Cases required manual correction)"
   ]
  },
  {
   "cell_type": "code",
   "execution_count": 8,
   "id": "b223f9f0-c35e-4edc-9216-133d633f2355",
   "metadata": {},
   "outputs": [
    {
     "data": {
      "text/plain": [
       "1"
      ]
     },
     "execution_count": 8,
     "metadata": {},
     "output_type": "execute_result"
    }
   ],
   "source": [
    "len(gpt_evaluation_df.query(\"chatgpt_final != chatgpt_raw\"))"
   ]
  },
  {
   "cell_type": "markdown",
   "id": "27eec649-44f9-4713-ba78-0b3f672ad288",
   "metadata": {},
   "source": [
    "### Correct invalid response format"
   ]
  },
  {
   "cell_type": "code",
   "execution_count": 9,
   "id": "9fe567c5-d807-4c09-8246-584dd1df62c3",
   "metadata": {},
   "outputs": [
    {
     "name": "stdout",
     "output_type": "stream",
     "text": [
      "67 nan\n"
     ]
    }
   ],
   "source": [
    "for idx, evaluation in enumerate(gpt_evaluation_df[\"chatgpt_final\"]):\n",
    "    try:\n",
    "        literal_eval(evaluation)\n",
    "    except Exception:\n",
    "        print(idx, evaluation)"
   ]
  },
  {
   "cell_type": "code",
   "execution_count": 10,
   "id": "69d4b9b6-0daa-4e65-aad4-9f146c3a3828",
   "metadata": {},
   "outputs": [],
   "source": [
    "gpt_evaluation_df.loc[67, \"chatgpt_final\"] = 'None'"
   ]
  },
  {
   "cell_type": "code",
   "execution_count": 11,
   "id": "82416156-89aa-4a30-a515-c0c5ef339d7e",
   "metadata": {},
   "outputs": [],
   "source": [
    "gpt_evaluation_df[\"chatgpt_final\"] = gpt_evaluation_df[\"chatgpt_final\"].apply(literal_eval)"
   ]
  },
  {
   "cell_type": "markdown",
   "id": "1fdff32e-ef98-4b67-9844-8fba43c767d9",
   "metadata": {},
   "source": [
    "### Filet our cases where GPT gave no answer"
   ]
  },
  {
   "cell_type": "code",
   "execution_count": 12,
   "id": "47116e87-8114-4e15-ac8d-6d321c298b5f",
   "metadata": {},
   "outputs": [
    {
     "name": "stdout",
     "output_type": "stream",
     "text": [
      "1151\n",
      "1150\n"
     ]
    }
   ],
   "source": [
    "print(len(gpt_evaluation_df))\n",
    "gpt_evaluation_df = gpt_evaluation_df.dropna(subset=[\"chatgpt_final\"])\n",
    "print(len(gpt_evaluation_df))"
   ]
  },
  {
   "cell_type": "markdown",
   "id": "75b28304-321c-4210-be8a-b9fe77c0c636",
   "metadata": {
    "tags": []
   },
   "source": [
    "### Filter out cases where GPT gave invalid answer\n",
    "* In cases where GPT gave invalid answer (e.g. label with spelling mistake) we need to filter them out)"
   ]
  },
  {
   "cell_type": "code",
   "execution_count": 13,
   "id": "3efc6398-a9aa-43c4-9758-1845d3f7d54f",
   "metadata": {},
   "outputs": [],
   "source": [
    "unique_gpt_answers = set()\n",
    "for evaluation in gpt_evaluation_df[\"chatgpt_final\"]:\n",
    "    unique_gpt_answers = unique_gpt_answers.union(set(evaluation))"
   ]
  },
  {
   "cell_type": "code",
   "execution_count": 14,
   "id": "ce757fd2-8a8e-4bf4-9eec-bb9da2dfd53c",
   "metadata": {},
   "outputs": [
    {
     "data": {
      "text/plain": [
       "46"
      ]
     },
     "execution_count": 14,
     "metadata": {},
     "output_type": "execute_result"
    }
   ],
   "source": [
    "len(unique_gpt_answers)"
   ]
  },
  {
   "cell_type": "code",
   "execution_count": 15,
   "id": "964f49de-0d46-44cd-921d-c8a6078e97c3",
   "metadata": {},
   "outputs": [],
   "source": [
    "is_valid_label_map = {\n",
    "    label: label in EMOTION_TO_ID\n",
    "    for label in unique_gpt_answers\n",
    "}"
   ]
  },
  {
   "cell_type": "code",
   "execution_count": 16,
   "id": "7732556f-cf6b-4451-a773-6fe1ce9753e2",
   "metadata": {},
   "outputs": [
    {
     "name": "stdout",
     "output_type": "stream",
     "text": [
      "1150\n",
      "1123\n"
     ]
    }
   ],
   "source": [
    "print(len(gpt_evaluation_df))\n",
    "gpt_evaluation_df = gpt_evaluation_df.loc[\n",
    "    gpt_evaluation_df[\"chatgpt_final\"].apply(\n",
    "        lambda labels: all((is_valid_label_map[label] for label in labels))\n",
    "    )\n",
    "]\n",
    "print(len(gpt_evaluation_df))"
   ]
  },
  {
   "cell_type": "markdown",
   "id": "6186ed24-926e-438e-a854-14981f844ce9",
   "metadata": {
    "tags": []
   },
   "source": [
    "## Encode model predictions"
   ]
  },
  {
   "cell_type": "code",
   "execution_count": 17,
   "id": "43613485-0912-4889-8184-4b5b7ef2ea8f",
   "metadata": {},
   "outputs": [],
   "source": [
    "def encode_one_hot(annotations: list[str]):\n",
    "    one_hot = np.zeros(len(ID_TO_EMOTION), dtype=\"bool\")\n",
    "    for emotion in annotations:\n",
    "        one_hot[EMOTION_TO_ID[emotion]] = 1\n",
    "    return one_hot\n",
    "\n",
    "gpt_evaluation_df[\"true_labels\"] =  gpt_evaluation_df[\"annotation\"].apply(\n",
    "    encode_one_hot\n",
    ")"
   ]
  },
  {
   "cell_type": "code",
   "execution_count": 18,
   "id": "7030d4a3-839a-4608-8149-ecf6373b0645",
   "metadata": {},
   "outputs": [],
   "source": [
    "gpt_evaluation_df[\"gpt_labels\"] =  gpt_evaluation_df[\"chatgpt_final\"].apply(encode_one_hot)"
   ]
  },
  {
   "cell_type": "markdown",
   "id": "a1ecfedd-84c1-49e5-acc6-ac064c3a3220",
   "metadata": {},
   "source": [
    "## Obtain model predictions"
   ]
  },
  {
   "cell_type": "markdown",
   "id": "a05a4291-60b7-47f6-9a38-34978d75fdd4",
   "metadata": {},
   "source": [
    "### Load pretrained model"
   ]
  },
  {
   "cell_type": "code",
   "execution_count": 19,
   "id": "dda29e48-1809-4de7-9515-d5475b63245d",
   "metadata": {},
   "outputs": [],
   "source": [
    "tokenizer = AutoTokenizer.from_pretrained(\"monologg/bert-base-cased-goemotions-original\")\n",
    "model = BertForSequenceClassification.from_pretrained(\"monologg/bert-base-cased-goemotions-original\")"
   ]
  },
  {
   "cell_type": "markdown",
   "id": "6720a6b4-f377-434f-a3e6-e28c9ddc693c",
   "metadata": {},
   "source": [
    "### Add annotator ID as special tokens"
   ]
  },
  {
   "cell_type": "code",
   "execution_count": 20,
   "id": "966bcb55-41f9-43b0-9228-0ba79c3c33ee",
   "metadata": {},
   "outputs": [
    {
     "data": {
      "text/plain": [
       "81"
      ]
     },
     "execution_count": 20,
     "metadata": {},
     "output_type": "execute_result"
    }
   ],
   "source": [
    "special_tokens_map = {\n",
    "    \"additional_special_tokens\": []\n",
    "}\n",
    "for rater_id in gpt_evaluation_df[\"rater_id\"].unique():\n",
    "    special_tokens_map[\"additional_special_tokens\"].append(f\"<{rater_id}>\")\n",
    "tokenizer.add_special_tokens(special_tokens_map)"
   ]
  },
  {
   "cell_type": "code",
   "execution_count": 21,
   "id": "99094b9b-4cea-406b-9897-56fa1d0b75f0",
   "metadata": {},
   "outputs": [
    {
     "data": {
      "text/plain": [
       "Embedding(29077, 768)"
      ]
     },
     "execution_count": 21,
     "metadata": {},
     "output_type": "execute_result"
    }
   ],
   "source": [
    "model.resize_token_embeddings(len(tokenizer))"
   ]
  },
  {
   "cell_type": "code",
   "execution_count": 22,
   "id": "8a6dd983-2774-48ec-affe-5cc8a08d2b10",
   "metadata": {},
   "outputs": [],
   "source": [
    "gpt_evaluation_df[\"text_with_special_tokens\"] = gpt_evaluation_df.apply(\n",
    "    lambda row: f\"<{row.rater_id}> {row.text}\",\n",
    "    axis=1,\n",
    ")"
   ]
  },
  {
   "cell_type": "code",
   "execution_count": 23,
   "id": "f8f42954-9ad8-442a-8340-45d1ac132c4a",
   "metadata": {},
   "outputs": [
    {
     "data": {
      "text/plain": [
       "0    <0> That’s how I outfitted my team in that awe...\n",
       "1        <0> All I want for Christmas is a broken home\n",
       "Name: text_with_special_tokens, dtype: object"
      ]
     },
     "execution_count": 23,
     "metadata": {},
     "output_type": "execute_result"
    }
   ],
   "source": [
    "gpt_evaluation_df[\"text_with_special_tokens\"].head(2)"
   ]
  },
  {
   "cell_type": "markdown",
   "id": "706ece4a-ef4a-4d87-aa78-d1ea5defc0c5",
   "metadata": {},
   "source": [
    "### Get model predictions"
   ]
  },
  {
   "cell_type": "code",
   "execution_count": 24,
   "id": "7b0d622e-57e9-45c0-9e03-0cef62393075",
   "metadata": {},
   "outputs": [],
   "source": [
    "def get_model_predictions(text: str) -> np.ndarray:\n",
    "    inputs = tokenizer(text, return_tensors=\"pt\")\n",
    "    logits = model(**inputs).logits\n",
    "    return (torch.sigmoid(logits).squeeze(dim=0) > 0.5).numpy()"
   ]
  },
  {
   "cell_type": "code",
   "execution_count": 25,
   "id": "04996640-ceb4-4538-8e1d-4d290b19ac41",
   "metadata": {},
   "outputs": [],
   "source": [
    "gpt_evaluation_df[\"sota_labels\"] = gpt_evaluation_df[\"text_with_special_tokens\"].apply(\n",
    "    get_model_predictions\n",
    ")"
   ]
  },
  {
   "cell_type": "markdown",
   "id": "fa48124d-db32-46fa-8aa4-7aa0d8a5d84a",
   "metadata": {},
   "source": [
    "## Evaluation"
   ]
  },
  {
   "cell_type": "markdown",
   "id": "ea515f68-3b0b-4eaf-8c5d-4014cdfeedcd",
   "metadata": {},
   "source": [
    "### SOTA"
   ]
  },
  {
   "cell_type": "code",
   "execution_count": 26,
   "id": "c071fbfc-442b-437f-9586-7bb36634aa96",
   "metadata": {},
   "outputs": [
    {
     "data": {
      "text/plain": [
       "0.346393588601959"
      ]
     },
     "execution_count": 26,
     "metadata": {},
     "output_type": "execute_result"
    }
   ],
   "source": [
    "accuracy_score(\n",
    "    y_true=np.array(gpt_evaluation_df[\"true_labels\"].tolist()),\n",
    "    y_pred=np.array(gpt_evaluation_df[\"sota_labels\"].tolist()),\n",
    ")"
   ]
  },
  {
   "cell_type": "code",
   "execution_count": 27,
   "id": "b24d6ede-5fc8-4faa-92ed-b5170a0a7b06",
   "metadata": {},
   "outputs": [
    {
     "data": {
      "text/plain": [
       "0.347785110699626"
      ]
     },
     "execution_count": 27,
     "metadata": {},
     "output_type": "execute_result"
    }
   ],
   "source": [
    "f1_score(\n",
    "    y_true=np.array(gpt_evaluation_df[\"true_labels\"].tolist()),\n",
    "    y_pred=np.array(gpt_evaluation_df[\"sota_labels\"].tolist()),\n",
    "    average='macro',\n",
    ")"
   ]
  },
  {
   "cell_type": "markdown",
   "id": "e2e00570-3105-43c9-a69b-e1b3a5de4cc9",
   "metadata": {},
   "source": [
    "### GPT"
   ]
  },
  {
   "cell_type": "code",
   "execution_count": 28,
   "id": "225dde11-fadf-45fc-84e4-3d98798662df",
   "metadata": {},
   "outputs": [
    {
     "data": {
      "text/plain": [
       "0.195013357079252"
      ]
     },
     "execution_count": 28,
     "metadata": {},
     "output_type": "execute_result"
    }
   ],
   "source": [
    "accuracy_score(\n",
    "    y_true=np.array(gpt_evaluation_df[\"true_labels\"].tolist()),\n",
    "    y_pred=np.array(gpt_evaluation_df[\"gpt_labels\"].tolist()),\n",
    ")"
   ]
  },
  {
   "cell_type": "code",
   "execution_count": 29,
   "id": "1e839c68-c4b4-44e3-81a7-72068b2ad987",
   "metadata": {},
   "outputs": [
    {
     "data": {
      "text/plain": [
       "0.2373781852679125"
      ]
     },
     "execution_count": 29,
     "metadata": {},
     "output_type": "execute_result"
    }
   ],
   "source": [
    "f1_score(\n",
    "    y_true=np.array(gpt_evaluation_df[\"true_labels\"].tolist()),\n",
    "    y_pred=np.array(gpt_evaluation_df[\"gpt_labels\"].tolist()),\n",
    "    average='macro',\n",
    ")"
   ]
  },
  {
   "cell_type": "markdown",
   "id": "0fe435ab-78af-41d7-8744-16a2fe4b4323",
   "metadata": {},
   "source": [
    "## Per class metrics"
   ]
  },
  {
   "cell_type": "code",
   "execution_count": 30,
   "id": "dc42d572-5cf3-4990-969e-6ea20acbc92d",
   "metadata": {
    "tags": []
   },
   "outputs": [],
   "source": [
    "metrics = []\n",
    "for emotion, emotion_id in EMOTION_TO_ID.items():\n",
    "    true_labels = gpt_evaluation_df[\"true_labels\"].apply(lambda labels: labels[emotion_id]).values\n",
    "    sota_labels = gpt_evaluation_df[\"sota_labels\"].apply(lambda labels: labels[emotion_id]).values\n",
    "    gpt_labels = gpt_evaluation_df[\"gpt_labels\"].apply(lambda labels: labels[emotion_id]).values\n",
    "    metrics.append(\n",
    "        {\n",
    "            \"Emotion\": emotion,\n",
    "            \"Emotion ID\": emotion_id,\n",
    "            \"Accuracy\": accuracy_score(\n",
    "                y_true=true_labels,\n",
    "                y_pred=sota_labels,\n",
    "            ),\n",
    "            \"F1Score\": f1_score(\n",
    "                y_true=true_labels,\n",
    "                y_pred=sota_labels,\n",
    "            ),\n",
    "            \"Model\": \"SOTA\",\n",
    "        }\n",
    "    )\n",
    "    metrics.append(\n",
    "        {\n",
    "            \"Emotion\": emotion,\n",
    "            \"Emotion ID\": emotion_id,\n",
    "            \"Accuracy\": accuracy_score(\n",
    "                y_true=true_labels,\n",
    "                y_pred=gpt_labels,\n",
    "            ),\n",
    "            \"F1Score\": f1_score(\n",
    "                y_true=true_labels,\n",
    "                y_pred=gpt_labels,\n",
    "            ),\n",
    "            \"Model\": \"GPT\",\n",
    "        }\n",
    "    )\n",
    "metrics_df = pd.DataFrame(metrics)"
   ]
  },
  {
   "cell_type": "code",
   "execution_count": 31,
   "id": "4558d7af-1a48-4cfc-b88b-b42c4d5ca117",
   "metadata": {},
   "outputs": [
    {
     "data": {
      "text/plain": [
       "[0.25925925925925924,\n",
       " 0.39779005524861877,\n",
       " 0.2898550724637681,\n",
       " 0.19718309859154928,\n",
       " 0.16923076923076924,\n",
       " 0.17241379310344826,\n",
       " 0.3,\n",
       " 0.2764227642276423,\n",
       " 0.2352941176470588,\n",
       " 0.24509803921568632,\n",
       " 0.20987654320987653,\n",
       " 0.19753086419753088,\n",
       " 0.10526315789473684,\n",
       " 0.18666666666666668,\n",
       " 0.2424242424242424,\n",
       " 0.48484848484848486,\n",
       " 0.5,\n",
       " 0.2033898305084746,\n",
       " 0.36923076923076925,\n",
       " 0.0,\n",
       " 0.2191780821917808,\n",
       " 0.11764705882352941,\n",
       " 0.20895522388059704,\n",
       " 0.058823529411764705,\n",
       " 0.11764705882352941,\n",
       " 0.3777777777777778,\n",
       " 0.22222222222222224,\n",
       " 0.282560706401766]"
      ]
     },
     "execution_count": 31,
     "metadata": {},
     "output_type": "execute_result"
    }
   ],
   "source": [
    "metrics_df[metrics_df[\"Model\"] == \"GPT\"][\"F1Score\"].tolist()"
   ]
  },
  {
   "cell_type": "code",
   "execution_count": 32,
   "id": "73760029-2c4c-4bad-9a1c-838e64d0420b",
   "metadata": {},
   "outputs": [
    {
     "data": {
      "text/plain": [
       "[0.5517241379310345,\n",
       " 0.7818181818181817,\n",
       " 0.4835164835164836,\n",
       " 0.27058823529411763,\n",
       " 0.2567567567567567,\n",
       " 0.23728813559322035,\n",
       " 0.35294117647058826,\n",
       " 0.37254901960784315,\n",
       " 0.20689655172413793,\n",
       " 0.2291666666666667,\n",
       " 0.2909090909090909,\n",
       " 0.30434782608695654,\n",
       " 0.25,\n",
       " 0.24000000000000005,\n",
       " 0.4444444444444445,\n",
       " 0.7969924812030074,\n",
       " 0.0,\n",
       " 0.360655737704918,\n",
       " 0.7010309278350516,\n",
       " 0.0,\n",
       " 0.2637362637362637,\n",
       " 0.16666666666666666,\n",
       " 0.16901408450704225,\n",
       " 0.0,\n",
       " 0.5217391304347826,\n",
       " 0.5135135135135135,\n",
       " 0.4333333333333333,\n",
       " 0.5383542538354255]"
      ]
     },
     "execution_count": 32,
     "metadata": {},
     "output_type": "execute_result"
    }
   ],
   "source": [
    "metrics_df[metrics_df[\"Model\"] == \"SOTA\"][\"F1Score\"].tolist()"
   ]
  },
  {
   "cell_type": "code",
   "execution_count": 33,
   "id": "5b9de29c-15f4-49b0-8b70-7173bad89cad",
   "metadata": {},
   "outputs": [
    {
     "data": {
      "text/plain": [
       "[Text(0.5, 1.0, 'SOTA scores for GoEmotions Personalized No Context')]"
      ]
     },
     "execution_count": 33,
     "metadata": {},
     "output_type": "execute_result"
    },
    {
     "data": {
      "image/png": "[encoded data removed]",
      "text/plain": [
       "<Figure size 1200x800 with 1 Axes>"
      ]
     },
     "metadata": {},
     "output_type": "display_data"
    }
   ],
   "source": [
    "fig = sns.barplot(\n",
    "    data=metrics_df,\n",
    "    x=\"Emotion ID\",\n",
    "    y=\"F1Score\",\n",
    "    hue=\"Model\",\n",
    ").set(title=\"SOTA scores for GoEmotions Personalized No Context\")\n",
    "#plt.xticks(rotation=45)\n",
    "fig"
   ]
  },
  {
   "cell_type": "markdown",
   "id": "909477f5-ab14-4b89-b29f-07f947f01fa4",
   "metadata": {},
   "source": [
    "## Biggest model mistakes"
   ]
  },
  {
   "cell_type": "code",
   "execution_count": 34,
   "id": "f0185151-153d-49ac-a10b-4434d77ae368",
   "metadata": {},
   "outputs": [],
   "source": [
    "gpt_evaluation_df[\"sota_annotation\"] = gpt_evaluation_df[\"sota_labels\"].apply(\n",
    "    lambda labels: [\n",
    "        ID_TO_EMOTION[idx]\n",
    "        for idx, value in enumerate(labels)\n",
    "        if value\n",
    "    ]\n",
    ")"
   ]
  },
  {
   "cell_type": "code",
   "execution_count": 35,
   "id": "57b0a2f5-e359-495b-b55b-bc3e4902a6b6",
   "metadata": {},
   "outputs": [],
   "source": [
    "def compute_model_score(predictions, annotations) -> int:\n",
    "    predictions = set(predictions)\n",
    "    annotations = set(annotations)\n",
    "    n_correct = len(predictions & annotations)\n",
    "    n_incorrect = len(predictions ^ annotations)\n",
    "    return n_correct - n_incorrect"
   ]
  },
  {
   "cell_type": "code",
   "execution_count": 36,
   "id": "37762d26-c190-46a6-9f4c-83d4b62c732c",
   "metadata": {},
   "outputs": [],
   "source": [
    "gpt_evaluation_df[\"gpt_score\"] = gpt_evaluation_df.apply(\n",
    "    lambda row: compute_model_score(row.chatgpt_final, row.annotation),\n",
    "    axis=1,\n",
    ")\n",
    "gpt_evaluation_df[\"sota_score\"] = gpt_evaluation_df.apply(\n",
    "    lambda row: compute_model_score(row.sota_annotation, row.annotation),\n",
    "    axis=1,\n",
    ")\n",
    "gpt_evaluation_df = gpt_evaluation_df.sort_values(\"gpt_score\")"
   ]
  },
  {
   "cell_type": "markdown",
   "id": "0d089c1a-e6a3-4927-82b4-0c9e0370d46d",
   "metadata": {},
   "source": [
    "## Save results"
   ]
  },
  {
   "cell_type": "code",
   "execution_count": 37,
   "id": "c2afd7a8-d327-4654-b263-33d7e45d2bee",
   "metadata": {},
   "outputs": [],
   "source": [
    "metrics_df.to_csv(\"results/goemotions/metrics/no_context.csv\")\n",
    "gpt_evaluation_df.to_csv(\"results/goemotions/data/no_context.csv\", sep=\";\")\n",
    "# Best & Worst GPT predictions\n",
    "columns = [\"text\", \"prompt\", \"annotation\", \"gpt_score\", \"sota_score\", \"chatgpt_final\", \"sota_labels\"]\n",
    "gpt_evaluation_df[columns].head(10).to_csv(\"results/goemotions/worst/no_context.csv\", sep=\";\")\n",
    "gpt_evaluation_df[columns].tail(10).to_csv(\"results/goemotions/best/no_context.csv\", sep=\";\")"
   ]
  },
  {
   "cell_type": "code",
   "execution_count": null,
   "id": "b57f6fb1-4966-40de-bf5b-57efb93dc6db",
   "metadata": {},
   "outputs": [],
   "source": []
  }
 ],
 "metadata": {
  "kernelspec": {
   "display_name": "Python 3 (ipykernel)",
   "language": "python",
   "name": "python3"
  },
  "language_info": {
   "codemirror_mode": {
    "name": "ipython",
    "version": 3
   },
   "file_extension": ".py",
   "mimetype": "text/x-python",
   "name": "python",
   "nbconvert_exporter": "python",
   "pygments_lexer": "ipython3",
   "version": "3.10.2"
  }
 },
 "nbformat": 4,
 "nbformat_minor": 5
}
